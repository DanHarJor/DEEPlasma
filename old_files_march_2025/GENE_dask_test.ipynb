{
 "cells": [
  {
   "cell_type": "code",
   "execution_count": 1,
   "metadata": {},
   "outputs": [],
   "source": [
    "%load_ext autoreload\n",
    "%autoreload 2"
   ]
  },
  {
   "cell_type": "markdown",
   "metadata": {},
   "source": [
    "# Make Dask Cluster"
   ]
  },
  {
   "cell_type": "code",
   "execution_count": 2,
   "metadata": {},
   "outputs": [
    {
     "name": "stderr",
     "output_type": "stream",
     "text": [
      "/project/project_462000451/enchanted_container_lumi3/lib/python3.11/site-packages/distributed/node.py:187: UserWarning: Port 8787 is already in use.\n",
      "Perhaps you already have a cluster running?\n",
      "Hosting the HTTP server on port 34707 instead\n",
      "  warnings.warn(\n"
     ]
    }
   ],
   "source": [
    "from dask_jobqueue import SLURMCluster\n",
    "\n",
    "job_script_prologue = [\n",
    "    'export PATH=\"/project/project_462000451/enchanted_container_lumi3/bin:$PATH\"',\n",
    "    'cd /project/project_462000451/enchanted-surrogates/',\n",
    "    'export PYTHONPATH=$PYTHONPATH:/project/project_462000451/enchanted-surrogates/src', # NB: to use the enchanted-surrogate library\n",
    "    'export PYTHONPATH=$PYTHONPATH:/project/project_462000451/DEEPlasma/GENE_ML/gene_ml', # NB: to use the enchanted-surrogate library\n",
    "    'export PYTHONPATH=$PYTHONPATH:/project/project_462000451/DEEPlasma/', # NB: to use the enchanted-surrogate library\n",
    "    'source /scratch/project_462000451/daniel/daniel_sprint/bin/activate'\n",
    "]\n",
    "\n",
    "#SBATCH -t 00:30:00                # wallclock limit\n",
    "#SBATCH -N 1                       # total number of nodes, 2 CPUs with 64 rank each\n",
    "#SBATCH --ntasks=128      # 64 per CPU (i.e. 128 per node). Additional 2 hyperthreads disabled\n",
    "#SBATCH --mem=0                    # Allocate all the memory on each node\n",
    "#SBATCH -p standard                # all options see: scontrol show partition\n",
    "#SBATCH -A project_462000451\n",
    "\n",
    "slurm_options = ['-t 00:30:00', '-N 1', '-p standard', '-A project_462000451', '--ntasks=128']\n",
    "cluster = SLURMCluster(\n",
    "    # queue='standard',\n",
    "    # account=\"project_462000451\",\n",
    "    cores=1, #aka cpus-per-task\n",
    "    memory=\"200GB\",\n",
    "    # walltime = \"00:10:00\",\n",
    "    interface= \"nmn0\",\n",
    "    processes = 1, #keep this as 1\n",
    "    job_script_prologue=job_script_prologue,\n",
    "    job_extra_directives = slurm_options\n",
    ")\n",
    "n_jobs = 4\n",
    "cluster.scale(n_jobs)"
   ]
  },
  {
   "cell_type": "code",
   "execution_count": 3,
   "metadata": {},
   "outputs": [
    {
     "name": "stdout",
     "output_type": "stream",
     "text": [
      "#!/usr/bin/env bash\n",
      "\n",
      "#SBATCH -J dask-worker\n",
      "#SBATCH -n 1\n",
      "#SBATCH --cpus-per-task=1\n",
      "#SBATCH --mem=187G\n",
      "#SBATCH -t 00:30:00\n",
      "#SBATCH -t 00:30:00\n",
      "#SBATCH -N 1\n",
      "#SBATCH -p standard\n",
      "#SBATCH -A project_462000451\n",
      "#SBATCH --ntasks=128\n",
      "export PATH=\"/project/project_462000451/enchanted_container_lumi3/bin:$PATH\"\n",
      "cd /project/project_462000451/enchanted-surrogates/\n",
      "export PYTHONPATH=$PYTHONPATH:/project/project_462000451/enchanted-surrogates/src\n",
      "export PYTHONPATH=$PYTHONPATH:/project/project_462000451/DEEPlasma/GENE_ML/gene_ml\n",
      "export PYTHONPATH=$PYTHONPATH:/project/project_462000451/DEEPlasma/\n",
      "source /scratch/project_462000451/daniel/daniel_sprint/bin/activate\n",
      "/project/project_462000451/enchanted_container_lumi3/bin/python -m distributed.cli.dask_worker tcp://10.252.1.81:36329 --name dummy-name --nthreads 1 --memory-limit 186.26GiB --nanny --death-timeout 60 --interface nmn0\n",
      "\n"
     ]
    }
   ],
   "source": [
    "print(cluster.job_script())"
   ]
  },
  {
   "cell_type": "code",
   "execution_count": 4,
   "metadata": {},
   "outputs": [],
   "source": [
    "from dask.distributed import Client\n",
    "client = Client(cluster)"
   ]
  },
  {
   "cell_type": "code",
   "execution_count": 5,
   "metadata": {},
   "outputs": [
    {
     "data": {
      "text/html": [
       "<div>\n",
       "    <div style=\"width: 24px; height: 24px; background-color: #e1e1e1; border: 3px solid #9D9D9D; border-radius: 5px; position: absolute;\"> </div>\n",
       "    <div style=\"margin-left: 48px;\">\n",
       "        <h3 style=\"margin-bottom: 0px;\">Client</h3>\n",
       "        <p style=\"color: #9D9D9D; margin-bottom: 0px;\">Client-bb1b609c-0a3e-11f0-99b1-1402ecda5770</p>\n",
       "        <table style=\"width: 100%; text-align: left;\">\n",
       "\n",
       "        <tr>\n",
       "        \n",
       "            <td style=\"text-align: left;\"><strong>Connection method:</strong> Cluster object</td>\n",
       "            <td style=\"text-align: left;\"><strong>Cluster type:</strong> dask_jobqueue.SLURMCluster</td>\n",
       "        \n",
       "        </tr>\n",
       "\n",
       "        \n",
       "            <tr>\n",
       "                <td style=\"text-align: left;\">\n",
       "                    <strong>Dashboard: </strong> <a href=\"http://10.252.1.81:34707/status\" target=\"_blank\">http://10.252.1.81:34707/status</a>\n",
       "                </td>\n",
       "                <td style=\"text-align: left;\"></td>\n",
       "            </tr>\n",
       "        \n",
       "\n",
       "        </table>\n",
       "\n",
       "        \n",
       "\n",
       "        \n",
       "            <details>\n",
       "            <summary style=\"margin-bottom: 20px;\"><h3 style=\"display: inline;\">Cluster Info</h3></summary>\n",
       "            <div class=\"jp-RenderedHTMLCommon jp-RenderedHTML jp-mod-trusted jp-OutputArea-output\">\n",
       "    <div style=\"width: 24px; height: 24px; background-color: #e1e1e1; border: 3px solid #9D9D9D; border-radius: 5px; position: absolute;\">\n",
       "    </div>\n",
       "    <div style=\"margin-left: 48px;\">\n",
       "        <h3 style=\"margin-bottom: 0px; margin-top: 0px;\">SLURMCluster</h3>\n",
       "        <p style=\"color: #9D9D9D; margin-bottom: 0px;\">d2380046</p>\n",
       "        <table style=\"width: 100%; text-align: left;\">\n",
       "            <tr>\n",
       "                <td style=\"text-align: left;\">\n",
       "                    <strong>Dashboard:</strong> <a href=\"http://10.252.1.81:34707/status\" target=\"_blank\">http://10.252.1.81:34707/status</a>\n",
       "                </td>\n",
       "                <td style=\"text-align: left;\">\n",
       "                    <strong>Workers:</strong> 0\n",
       "                </td>\n",
       "            </tr>\n",
       "            <tr>\n",
       "                <td style=\"text-align: left;\">\n",
       "                    <strong>Total threads:</strong> 0\n",
       "                </td>\n",
       "                <td style=\"text-align: left;\">\n",
       "                    <strong>Total memory:</strong> 0 B\n",
       "                </td>\n",
       "            </tr>\n",
       "            \n",
       "        </table>\n",
       "\n",
       "        <details>\n",
       "            <summary style=\"margin-bottom: 20px;\">\n",
       "                <h3 style=\"display: inline;\">Scheduler Info</h3>\n",
       "            </summary>\n",
       "\n",
       "            <div style=\"\">\n",
       "    <div>\n",
       "        <div style=\"width: 24px; height: 24px; background-color: #FFF7E5; border: 3px solid #FF6132; border-radius: 5px; position: absolute;\"> </div>\n",
       "        <div style=\"margin-left: 48px;\">\n",
       "            <h3 style=\"margin-bottom: 0px;\">Scheduler</h3>\n",
       "            <p style=\"color: #9D9D9D; margin-bottom: 0px;\">Scheduler-105bc649-e7c3-4687-a9ab-1a03b0b94109</p>\n",
       "            <table style=\"width: 100%; text-align: left;\">\n",
       "                <tr>\n",
       "                    <td style=\"text-align: left;\">\n",
       "                        <strong>Comm:</strong> tcp://10.252.1.81:36329\n",
       "                    </td>\n",
       "                    <td style=\"text-align: left;\">\n",
       "                        <strong>Workers:</strong> 0\n",
       "                    </td>\n",
       "                </tr>\n",
       "                <tr>\n",
       "                    <td style=\"text-align: left;\">\n",
       "                        <strong>Dashboard:</strong> <a href=\"http://10.252.1.81:34707/status\" target=\"_blank\">http://10.252.1.81:34707/status</a>\n",
       "                    </td>\n",
       "                    <td style=\"text-align: left;\">\n",
       "                        <strong>Total threads:</strong> 0\n",
       "                    </td>\n",
       "                </tr>\n",
       "                <tr>\n",
       "                    <td style=\"text-align: left;\">\n",
       "                        <strong>Started:</strong> Just now\n",
       "                    </td>\n",
       "                    <td style=\"text-align: left;\">\n",
       "                        <strong>Total memory:</strong> 0 B\n",
       "                    </td>\n",
       "                </tr>\n",
       "            </table>\n",
       "        </div>\n",
       "    </div>\n",
       "\n",
       "    <details style=\"margin-left: 48px;\">\n",
       "        <summary style=\"margin-bottom: 20px;\">\n",
       "            <h3 style=\"display: inline;\">Workers</h3>\n",
       "        </summary>\n",
       "\n",
       "        \n",
       "\n",
       "    </details>\n",
       "</div>\n",
       "\n",
       "        </details>\n",
       "    </div>\n",
       "</div>\n",
       "            </details>\n",
       "        \n",
       "\n",
       "    </div>\n",
       "</div>"
      ],
      "text/plain": [
       "<Client: 'tcp://10.252.1.81:36329' processes=0 threads=0, memory=0 B>"
      ]
     },
     "execution_count": 5,
     "metadata": {},
     "output_type": "execute_result"
    }
   ],
   "source": [
    "client"
   ]
  },
  {
   "cell_type": "code",
   "execution_count": 6,
   "metadata": {},
   "outputs": [
    {
     "name": "stdout",
     "output_type": "stream",
     "text": [
      "<Client: 'tcp://10.252.1.81:36329' processes=0 threads=0, memory=0 B>\n"
     ]
    }
   ],
   "source": [
    "print(client)"
   ]
  },
  {
   "cell_type": "code",
   "execution_count": null,
   "metadata": {},
   "outputs": [
    {
     "name": "stdout",
     "output_type": "stream",
     "text": [
      "<Client: 'tcp://10.252.1.81:36329' processes=0 threads=0, memory=0 B>\n"
     ]
    }
   ],
   "source": [
    "from dask.distributed import Client\n",
    "\n",
    "# Connect to the Dask cluster\n",
    "# client = Client('tcp://scheduler-address:port')\n",
    "\n",
    "# Print client information\n",
    "print(client)\n",
    "\n",
    "# Get detailed information about workers\n",
    "workers_info = client.scheduler_info()['workers']\n",
    "for worker, info in workers_info.items():\n",
    "    print(f\"Worker: {worker}\")\n",
    "    print(f\"  Memory: {info['memory_limit'] / 1e9:.2f} GB\")\n",
    "    print(f\"  Cores: {info['nthreads']}\")\n",
    "    print(f\"  Host: {info['host']}\")\n",
    "    print(f\"  Local Directory: {info['local_directory']}\")\n",
    "    print('INFO KEYS',info.keys())\n",
    "    print('INFO',info)\n",
    "    print()"
   ]
  },
  {
   "cell_type": "markdown",
   "metadata": {},
   "source": [
    "# check access to file system"
   ]
  },
  {
   "cell_type": "code",
   "execution_count": null,
   "metadata": {},
   "outputs": [],
   "source": [
    "from dask.distributed import print, Client, as_completed, wait\n",
    "import subprocess\n",
    "import os\n",
    "def ls():\n",
    "    print('checking file system connection')\n",
    "    subprocess.run('ls /project/project_462000451/DEEPlasma')\n",
    "    print('ls', os.system('ls /project/project_462000451/DEEPlasma'))\n",
    " \n",
    "new_future = client.submit(ls)\n",
    "res = new_future.result()"
   ]
  },
  {
   "cell_type": "markdown",
   "metadata": {},
   "source": [
    "# quick GENE runner"
   ]
  },
  {
   "cell_type": "code",
   "execution_count": 8,
   "metadata": {},
   "outputs": [],
   "source": [
    "from GENE_ML.gene_ml.runners.GENErunner import GENErunner\n",
    "from GENE_ML.gene_ml.parsers.GENEparser import GENE_scan_parser\n",
    "from config import Config\n",
    "import os\n",
    "config = Config(local=True)\n",
    "\n",
    "parser = GENE_scan_parser(config)\n",
    "remote_save_name = 'gene_dask_test_really'\n",
    "remote_save_dir = os.path.join(config.remote_save_base_dir,remote_save_name)\n",
    "single_run_timelim = 300\n",
    "single_run_simtimelim = 300\n",
    "runner = GENErunner(parser, config, remote_save_dir, single_run_timelim=single_run_timelim, single_run_simtimelim=single_run_simtimelim, no_sbatch_run=True)"
   ]
  },
  {
   "cell_type": "code",
   "execution_count": 9,
   "metadata": {},
   "outputs": [
    {
     "name": "stdout",
     "output_type": "stream",
     "text": [
      "/scratch/project_462000451/gene_out/gene_auto_97781/gene_dask_test_really\n"
     ]
    }
   ],
   "source": [
    "print(remote_save_dir)"
   ]
  },
  {
   "cell_type": "code",
   "execution_count": 10,
   "metadata": {},
   "outputs": [
    {
     "name": "stdout",
     "output_type": "stream",
     "text": [
      "{'box-kymin': [0.5]}\n",
      "{'box-kymin': [0.5833333333333334]}\n",
      "{'box-kymin': [0.6666666666666666]}\n",
      "{'box-kymin': [0.75]}\n"
     ]
    }
   ],
   "source": [
    "from GENE_ML.gene_ml.samplers.grid import Grid\n",
    "\n",
    "ky = ['box-kymin']\n",
    "bounds = [(0.5,0.75)]\n",
    "num_samples = 4\n",
    "sampler = Grid(parameters=ky, num_samples=num_samples, bounds=bounds)\n",
    "\n",
    "# convert to form needed for my scanscript setup\n",
    "samples = [{'box-kymin':[v[0]]} for v in sampler.samples_np]\n",
    "for sa in samples:\n",
    "    print(sa)"
   ]
  },
  {
   "cell_type": "code",
   "execution_count": 11,
   "metadata": {},
   "outputs": [
    {
     "name": "stdout",
     "output_type": "stream",
     "text": [
      "{'box-kymin': [0.5]}\n",
      "{'box-kymin': [0.5833333333333334]}\n",
      "{'box-kymin': [0.6666666666666666]}\n",
      "{'box-kymin': [0.75]}\n"
     ]
    }
   ],
   "source": [
    "# create dask futures\n",
    "from dask.distributed import Client, as_completed, wait\n",
    "\n",
    "futures = []\n",
    "for i, sa in enumerate(samples):\n",
    "    print(sa)\n",
    "    run_id = f'gene_dask_test_{i}'\n",
    "    # runner.code_run(sa, run_id)\n",
    "    new_future = client.submit(\n",
    "        runner.code_run, sa, run_id\n",
    "    )\n",
    "    futures.append(new_future)\n",
    "\n"
   ]
  },
  {
   "cell_type": "code",
   "execution_count": 12,
   "metadata": {},
   "outputs": [],
   "source": [
    "seq = as_completed(futures)\n",
    "for future in seq:\n",
    "    res = future.result()"
   ]
  },
  {
   "cell_type": "code",
   "execution_count": null,
   "metadata": {},
   "outputs": [],
   "source": []
  }
 ],
 "metadata": {
  "kernelspec": {
   "display_name": "enchanted_container_lumi3",
   "language": "python",
   "name": "python3"
  },
  "language_info": {
   "codemirror_mode": {
    "name": "ipython",
    "version": 3
   },
   "file_extension": ".py",
   "mimetype": "text/x-python",
   "name": "python",
   "nbconvert_exporter": "python",
   "pygments_lexer": "ipython3",
   "version": "3.11.7"
  }
 },
 "nbformat": 4,
 "nbformat_minor": 2
}
