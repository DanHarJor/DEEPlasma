{
 "cells": [
  {
   "cell_type": "code",
   "execution_count": 1,
   "metadata": {},
   "outputs": [],
   "source": [
    "%load_ext autoreload\n",
    "%autoreload 2"
   ]
  },
  {
   "cell_type": "code",
   "execution_count": 2,
   "metadata": {},
   "outputs": [],
   "source": [
    "import sys\n",
    "sys.path.append('/project/project_462000451/DEEPlasma/GENE_ML/enchanted-surrogates/src/')"
   ]
  },
  {
   "cell_type": "code",
   "execution_count": 8,
   "metadata": {},
   "outputs": [
    {
     "name": "stderr",
     "output_type": "stream",
     "text": [
      "/project/project_462000451/DEEPlasma/GENE_ML/enchanted-surrogates/src/parsers/HELENAparser.py:1791: SyntaxWarning: invalid escape sequence '\\c'\n",
      "  \"\"\"\n"
     ]
    },
    {
     "name": "stdout",
     "output_type": "stream",
     "text": [
      "Cannot find DREAM. Please add the $DREAMPATH/py to your PYTHONPATH environment variable before running. No module named 'DREAM'\n"
     ]
    }
   ],
   "source": [
    "from runners.HELENArunner import HELENArunner"
   ]
  },
  {
   "cell_type": "code",
   "execution_count": null,
   "metadata": {},
   "outputs": [],
   "source": [
    "# /project/project_462000451/jet_97781_data\n",
    "\n",
    "executable_path = \"/scratch/project_2009007/HELENA/bin/hel13_64\"\n",
    "other_params = {\n",
    "# \"namelist_path\": \"/scratch/project_2009007/ench-surr-helper/helena/fort.10\",\n",
    "\"namelist_path\": \"/scratch/project_2009007/ench-surr-helper/helena/fort_jet.10\",\n",
    "\"input_parameter_type\": 3,\n",
    "\"only_generate_files\": False,\n",
    "\"beta_iteration\": True,\n",
    "\"beta_tolerance\": 0.01,\n",
    "\"max_beta_iterations\": 5,\n",
    "\"pedestal_width_scan\": False,\n",
    "\"pedestal_width_scan_params\": {\n",
    "    \"min_width\": 0.02,\n",
    "    \"max_width\": 0.06,\n",
    "    \"max_iterations\": 5,\n",
    "},\n",
    "\"mishka\": {\n",
    "    \"run_mishka\": False,\n",
    "    \"executable_path\": \"/scratch/project_2009007/MISHKA/bin/mishka/mishka1fast_gfortran\",\n",
    "    \"ntor\": [5,7,10,15,20,30,50],\n",
    "    \"other_params\": {\n",
    "    \"namelist_path\": \"/scratch/project_2009007/ench-surr-helper/mishka/fort.10\",\n",
    "    \"input_fort12\": \"\",\n",
    "    \"input_density\": \"\",\n",
    "    }\n",
    "}\n",
    "}\n"
   ]
  }
 ],
 "metadata": {
  "kernelspec": {
   "display_name": "Python 3",
   "language": "python",
   "name": "python3"
  },
  "language_info": {
   "codemirror_mode": {
    "name": "ipython",
    "version": 3
   },
   "file_extension": ".py",
   "mimetype": "text/x-python",
   "name": "python",
   "nbconvert_exporter": "python",
   "pygments_lexer": "ipython3",
   "version": "3.12.3"
  }
 },
 "nbformat": 4,
 "nbformat_minor": 2
}
