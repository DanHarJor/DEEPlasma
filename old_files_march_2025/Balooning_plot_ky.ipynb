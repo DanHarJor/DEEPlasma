{
 "cells": [
  {
   "cell_type": "code",
   "execution_count": 1,
   "metadata": {},
   "outputs": [],
   "source": [
    "%load_ext autoreload\n",
    "%autoreload 2"
   ]
  },
  {
   "cell_type": "code",
   "execution_count": null,
   "metadata": {},
   "outputs": [],
   "source": [
    "import sys\n",
    "import os\n",
    "pathap = os.path.join('GENE_ML','gene_ml','static_sparse_grid_approximations')\n",
    "sys.path.append(pathap)\n",
    "from GENE_ML.gene_ml.samplers.grid import grid\n",
    "from GENE_ML.gene_ml.datagen.datagen import DataGen\n",
    "# check config.py\n",
    "from config import config\n",
    "\n",
    "parameters = ['box-kymin']\n",
    "bounds = [(0.01,1)] #if bounds is a float rather than tuple then the sampler will make that the only value\n",
    "\n",
    "num_samples = 10\n",
    "\n",
    "sampler_uniform = grid(parameters=parameters, num_samples=num_samples ,bounds=bounds)\n",
    "\n",
    "# Folder name for the data to be saved in within the self.remote_save_base_dir of config\n",
    "remote_save_name = \"electron_scale_ky\"\n",
    "\n",
    "# This is used to identify the problem folder in gene\n",
    "ex_id = 'electron_scale_ky'\n",
    "\n",
    "single_run_timelim = 900\n",
    "single_run_simtimelim = 10000\n",
    "datagen = DataGen(config, sampler_uniform, \n",
    "                  ex_id=ex_id, remote_save_name=remote_save_name, \n",
    "                  single_run_timelim=single_run_timelim, \n",
    "                  single_run_simtimelim=single_run_simtimelim, num_workers=2)"
   ]
  },
  {
   "cell_type": "code",
   "execution_count": null,
   "metadata": {},
   "outputs": [],
   "source": [
    "datagen.executor.pre_run_check()"
   ]
  },
  {
   "cell_type": "code",
   "execution_count": null,
   "metadata": {},
   "outputs": [],
   "source": [
    "datagen.executor.start_runs()"
   ]
  }
 ],
 "metadata": {
  "kernelspec": {
   "display_name": "gene_ml",
   "language": "python",
   "name": "python3"
  },
  "language_info": {
   "codemirror_mode": {
    "name": "ipython",
    "version": 3
   },
   "file_extension": ".py",
   "mimetype": "text/x-python",
   "name": "python",
   "nbconvert_exporter": "python",
   "pygments_lexer": "ipython3",
   "version": "3.12.3"
  }
 },
 "nbformat": 4,
 "nbformat_minor": 2
}
