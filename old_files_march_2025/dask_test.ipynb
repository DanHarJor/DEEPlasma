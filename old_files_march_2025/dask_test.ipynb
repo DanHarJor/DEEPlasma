{
 "cells": [
  {
   "cell_type": "code",
   "execution_count": 1,
   "metadata": {},
   "outputs": [
    {
     "name": "stdout",
     "output_type": "stream",
     "text": [
      "hello\n"
     ]
    }
   ],
   "source": [
    "print('hello')\n"
   ]
  },
  {
   "cell_type": "code",
   "execution_count": null,
   "metadata": {},
   "outputs": [
    {
     "name": "stdout",
     "output_type": "stream",
     "text": [
      "hello\n",
      "             JOBID PARTITION     NAME     USER ST       TIME  NODES NODELIST(REASON)\n",
      "           9410600 interacti sys/dash danieljo  R      44:06      1 nid002279\n"
     ]
    },
    {
     "data": {
      "text/plain": [
       "0"
      ]
     },
     "execution_count": 2,
     "metadata": {},
     "output_type": "execute_result"
    }
   ],
   "source": [
    "import os\n",
    "os.system('echo hello')\n",
    "os.system('squeue --me')"
   ]
  },
  {
   "cell_type": "code",
   "execution_count": 3,
   "metadata": {},
   "outputs": [
    {
     "name": "stdout",
     "output_type": "stream",
     "text": [
      "2025.1.0\n"
     ]
    }
   ],
   "source": [
    "import dask\n",
    "print(dask.__version__)"
   ]
  },
  {
   "cell_type": "code",
   "execution_count": 11,
   "metadata": {},
   "outputs": [
    {
     "data": {
      "text/plain": [
       "0"
      ]
     },
     "execution_count": 11,
     "metadata": {},
     "output_type": "execute_result"
    }
   ],
   "source": [
    "import os\n",
    "os.system('export DASK_DISTRIBUTED__NANNY__STARTUP_TIMEOUT=60')"
   ]
  },
  {
   "cell_type": "code",
   "execution_count": 22,
   "metadata": {},
   "outputs": [
    {
     "name": "stderr",
     "output_type": "stream",
     "text": [
      "/project/project_462000451/enchanted_container_lumi3/lib/python3.11/site-packages/distributed/node.py:187: UserWarning: Port 8787 is already in use.\n",
      "Perhaps you already have a cluster running?\n",
      "Hosting the HTTP server on port 39333 instead\n",
      "  warnings.warn(\n"
     ]
    }
   ],
   "source": [
    "\n",
    "\n",
    "prologue_commands = [\n",
    "    \"echo 'Loading cray-python'\"\n",
    "    \"module load cray-python\"\n",
    "    \"echo 'Loading Python Enviroment'\",\n",
    "    \"source /scratch/project_462000451/run/venv_lumi_cray_python2/bin/activate\",\n",
    "]\n",
    "cluster = SLURMCluster(\n",
    "    n_workers=2,\n",
    "    queue='small',\n",
    "    account=\"project_462000451\",\n",
    "    cores=1,\n",
    "    job_cpu=2,\n",
    "    memory=\"1GB\",\n",
    "    interface= \"nmn0\",\n",
    "    job_script_prologue=prologue_commands\n",
    ")\n",
    "#['lo', 'nmn0', 'hsn1', 'hsn0', 'can0', 'bond0', 'net1', 'net2', 'net3']\n",
    "# cluster.scale(jobs=2)  # ask for 10 jobs\n",
    "# cluster.scale()"
   ]
  },
  {
   "cell_type": "code",
   "execution_count": 2,
   "metadata": {},
   "outputs": [
    {
     "name": "stderr",
     "output_type": "stream",
     "text": [
      "/project/project_462000451/enchanted_container_lumi3/lib/python3.11/site-packages/distributed/node.py:187: UserWarning: Port 8787 is already in use.\n",
      "Perhaps you already have a cluster running?\n",
      "Hosting the HTTP server on port 38467 instead\n",
      "  warnings.warn(\n"
     ]
    }
   ],
   "source": [
    "from dask_jobqueue import SLURMCluster\n",
    "\n",
    "# custom_worker_command = \"bash -c 'export PATH=/project/project_462000451/enchanted_container_lumi3/bin:$PATH && python -m distributed.cli.dask_worker'\"\n",
    "\n",
    "# prologue_commands = [\n",
    "#     # \"echo 'Loading cray-python'\"\n",
    "#     # \"module load cray-python\"\n",
    "#     # \"echo 'Loading Python Enviroment'\",\n",
    "#     # \"source /scratch/project_462000451/run/venv_lumi_cray_python2/bin/activate\",\n",
    "\n",
    "#     # \"echo 'checking squeue --me'\",\n",
    "#     # 'squeue --me',\n",
    "#     # \"echo 'checking dask can be imported'\",\n",
    "#     # \"python3 /project/project_462000451/DEEPlasma/check_dask_imported.py\",\n",
    "#     # \"python3 -m distributed.cli.dask_worker\"\n",
    "#     # \"echo 'exporting path for container'\",\n",
    "#     # \"export PATH='/project/project_462000451/enchanted_container_lumi3/bin:$PATH'\"\n",
    "# ]\n",
    "\n",
    "job_script_prologue = [\n",
    "    # ''\n",
    "    'export PATH=\"/project/project_462000451/enchanted_container_lumi3/bin:$PATH\"',\n",
    "    'cd /project/project_462000451/enchanted-surrogates/',\n",
    "    'export PYTHONPATH=$PYTHONPATH:/project/project_462000451/enchanted-surrogates/src' # NB: to use the enchanted-surrogate library\n",
    "]\n",
    "\n",
    "cluster = SLURMCluster(\n",
    "    # n_workers = 2,\n",
    "    queue='small',\n",
    "    account=\"project_462000451\",\n",
    "    cores=10, #Total number of cores spread evenly among the workers\n",
    "    processes=1,\n",
    "    memory=\"1GB\", #Memory split betwen the workers\n",
    "    walltime = \"00:10:00\",\n",
    "    interface= \"nmn0\",\n",
    "    # processes = 2,\n",
    "    # death_timeout=2,\n",
    "    # job_extra=['--preload', 'worker_setup.py']\n",
    "    # worker_command = custom_worker_command\n",
    "    job_script_prologue=job_script_prologue\n",
    ")\n",
    "\n",
    "cluster.scale(3)\n",
    "\n",
    "# from dask.distributed import Client\n",
    "# client = Client(cluster)\n",
    "\n",
    "# num_workers = len(client.scheduler_info()[\"workers\"])\n",
    "# print(num_workers)\n",
    "\n",
    "#['lo', 'nmn0', 'hsn1', 'hsn0', 'can0', 'bond0', 'net1', 'net2', 'net3']\n",
    "# cluster.scale(jobs=3)  # ask for 10 jobs\n"
   ]
  },
  {
   "cell_type": "code",
   "execution_count": 3,
   "metadata": {},
   "outputs": [
    {
     "name": "stdout",
     "output_type": "stream",
     "text": [
      "#!/usr/bin/env bash\n",
      "\n",
      "#SBATCH -J dask-worker\n",
      "#SBATCH -p small\n",
      "#SBATCH -A project_462000451\n",
      "#SBATCH -n 1\n",
      "#SBATCH --cpus-per-task=10\n",
      "#SBATCH --mem=954M\n",
      "#SBATCH -t 00:10:00\n",
      "export PATH=\"/project/project_462000451/enchanted_container_lumi3/bin:$PATH\"\n",
      "cd /project/project_462000451/enchanted-surrogates/\n",
      "export PYTHONPATH=$PYTHONPATH:/project/project_462000451/enchanted-surrogates/src\n",
      "/project/project_462000451/enchanted_container_lumi3/bin/python -m distributed.cli.dask_worker tcp://10.252.1.81:36769 --name dummy-name --nthreads 10 --memory-limit 0.93GiB --nanny --death-timeout 60 --interface nmn0\n",
      "\n"
     ]
    }
   ],
   "source": [
    "print(cluster.job_script())"
   ]
  },
  {
   "cell_type": "code",
   "execution_count": 4,
   "metadata": {},
   "outputs": [
    {
     "name": "stdout",
     "output_type": "stream",
     "text": [
      "checking file system connection\n"
     ]
    }
   ],
   "source": [
    "from dask.distributed import Client\n",
    "client = Client(cluster)\n"
   ]
  },
  {
   "cell_type": "code",
   "execution_count": 9,
   "metadata": {},
   "outputs": [
    {
     "name": "stdout",
     "output_type": "stream",
     "text": [
      "3\n"
     ]
    }
   ],
   "source": [
    "num_workers = len(client.scheduler_info()[\"workers\"])\n",
    "print(num_workers)"
   ]
  },
  {
   "cell_type": "code",
   "execution_count": 6,
   "metadata": {},
   "outputs": [
    {
     "name": "stdout",
     "output_type": "stream",
     "text": [
      "SLURMCluster(d57b428c, 'tcp://10.252.1.81:36769', workers=0, threads=0, memory=0 B)\n"
     ]
    }
   ],
   "source": [
    "print(cluster)"
   ]
  },
  {
   "cell_type": "code",
   "execution_count": 7,
   "metadata": {},
   "outputs": [
    {
     "data": {
      "text/html": [
       "<div>\n",
       "    <div style=\"width: 24px; height: 24px; background-color: #e1e1e1; border: 3px solid #9D9D9D; border-radius: 5px; position: absolute;\"> </div>\n",
       "    <div style=\"margin-left: 48px;\">\n",
       "        <h3 style=\"margin-bottom: 0px;\">Client</h3>\n",
       "        <p style=\"color: #9D9D9D; margin-bottom: 0px;\">Client-5a48d1b3-0a43-11f0-93eb-1402ecda5770</p>\n",
       "        <table style=\"width: 100%; text-align: left;\">\n",
       "\n",
       "        <tr>\n",
       "        \n",
       "            <td style=\"text-align: left;\"><strong>Connection method:</strong> Cluster object</td>\n",
       "            <td style=\"text-align: left;\"><strong>Cluster type:</strong> dask_jobqueue.SLURMCluster</td>\n",
       "        \n",
       "        </tr>\n",
       "\n",
       "        \n",
       "            <tr>\n",
       "                <td style=\"text-align: left;\">\n",
       "                    <strong>Dashboard: </strong> <a href=\"http://10.252.1.81:38467/status\" target=\"_blank\">http://10.252.1.81:38467/status</a>\n",
       "                </td>\n",
       "                <td style=\"text-align: left;\"></td>\n",
       "            </tr>\n",
       "        \n",
       "\n",
       "        </table>\n",
       "\n",
       "        \n",
       "\n",
       "        \n",
       "            <details>\n",
       "            <summary style=\"margin-bottom: 20px;\"><h3 style=\"display: inline;\">Cluster Info</h3></summary>\n",
       "            <div class=\"jp-RenderedHTMLCommon jp-RenderedHTML jp-mod-trusted jp-OutputArea-output\">\n",
       "    <div style=\"width: 24px; height: 24px; background-color: #e1e1e1; border: 3px solid #9D9D9D; border-radius: 5px; position: absolute;\">\n",
       "    </div>\n",
       "    <div style=\"margin-left: 48px;\">\n",
       "        <h3 style=\"margin-bottom: 0px; margin-top: 0px;\">SLURMCluster</h3>\n",
       "        <p style=\"color: #9D9D9D; margin-bottom: 0px;\">d57b428c</p>\n",
       "        <table style=\"width: 100%; text-align: left;\">\n",
       "            <tr>\n",
       "                <td style=\"text-align: left;\">\n",
       "                    <strong>Dashboard:</strong> <a href=\"http://10.252.1.81:38467/status\" target=\"_blank\">http://10.252.1.81:38467/status</a>\n",
       "                </td>\n",
       "                <td style=\"text-align: left;\">\n",
       "                    <strong>Workers:</strong> 0\n",
       "                </td>\n",
       "            </tr>\n",
       "            <tr>\n",
       "                <td style=\"text-align: left;\">\n",
       "                    <strong>Total threads:</strong> 0\n",
       "                </td>\n",
       "                <td style=\"text-align: left;\">\n",
       "                    <strong>Total memory:</strong> 0 B\n",
       "                </td>\n",
       "            </tr>\n",
       "            \n",
       "        </table>\n",
       "\n",
       "        <details>\n",
       "            <summary style=\"margin-bottom: 20px;\">\n",
       "                <h3 style=\"display: inline;\">Scheduler Info</h3>\n",
       "            </summary>\n",
       "\n",
       "            <div style=\"\">\n",
       "    <div>\n",
       "        <div style=\"width: 24px; height: 24px; background-color: #FFF7E5; border: 3px solid #FF6132; border-radius: 5px; position: absolute;\"> </div>\n",
       "        <div style=\"margin-left: 48px;\">\n",
       "            <h3 style=\"margin-bottom: 0px;\">Scheduler</h3>\n",
       "            <p style=\"color: #9D9D9D; margin-bottom: 0px;\">Scheduler-bc18b7ac-278d-4b1d-8190-19811a945f6b</p>\n",
       "            <table style=\"width: 100%; text-align: left;\">\n",
       "                <tr>\n",
       "                    <td style=\"text-align: left;\">\n",
       "                        <strong>Comm:</strong> tcp://10.252.1.81:36769\n",
       "                    </td>\n",
       "                    <td style=\"text-align: left;\">\n",
       "                        <strong>Workers:</strong> 0\n",
       "                    </td>\n",
       "                </tr>\n",
       "                <tr>\n",
       "                    <td style=\"text-align: left;\">\n",
       "                        <strong>Dashboard:</strong> <a href=\"http://10.252.1.81:38467/status\" target=\"_blank\">http://10.252.1.81:38467/status</a>\n",
       "                    </td>\n",
       "                    <td style=\"text-align: left;\">\n",
       "                        <strong>Total threads:</strong> 0\n",
       "                    </td>\n",
       "                </tr>\n",
       "                <tr>\n",
       "                    <td style=\"text-align: left;\">\n",
       "                        <strong>Started:</strong> Just now\n",
       "                    </td>\n",
       "                    <td style=\"text-align: left;\">\n",
       "                        <strong>Total memory:</strong> 0 B\n",
       "                    </td>\n",
       "                </tr>\n",
       "            </table>\n",
       "        </div>\n",
       "    </div>\n",
       "\n",
       "    <details style=\"margin-left: 48px;\">\n",
       "        <summary style=\"margin-bottom: 20px;\">\n",
       "            <h3 style=\"display: inline;\">Workers</h3>\n",
       "        </summary>\n",
       "\n",
       "        \n",
       "\n",
       "    </details>\n",
       "</div>\n",
       "\n",
       "        </details>\n",
       "    </div>\n",
       "</div>\n",
       "            </details>\n",
       "        \n",
       "\n",
       "    </div>\n",
       "</div>"
      ],
      "text/plain": [
       "<Client: 'tcp://10.252.1.81:36769' processes=0 threads=0, memory=0 B>"
      ]
     },
     "execution_count": 7,
     "metadata": {},
     "output_type": "execute_result"
    }
   ],
   "source": [
    "client"
   ]
  },
  {
   "cell_type": "code",
   "execution_count": 8,
   "metadata": {},
   "outputs": [
    {
     "name": "stdout",
     "output_type": "stream",
     "text": [
      "CompletedProcess(args=\"srun --output=/project/project_462000451/DEEPlasma/std_out_echo.txt --error=/project/project_462000451/DEEPlasma/err_out_echo.txt echo 'HelloWorld!'\", returncode=0, stdout=b'', stderr=b'')\n"
     ]
    }
   ],
   "source": [
    "# create dask futures\n",
    "from dask.distributed import print, Client, as_completed, wait\n",
    "import subprocess\n",
    "import os\n",
    "\n",
    "def ls():\n",
    "    print('checking file system connection')\n",
    "    command = \"srun --output=/project/project_462000451/DEEPlasma/std_out_echo.txt --error=/project/project_462000451/DEEPlasma/err_out_echo.txt echo 'HelloWorld!'\"\n",
    "    out = subprocess.run(command, capture_output=True, shell=True)\n",
    "    return out\n",
    "    # subprocess.run('ls /project/project_462000451/DEEPlasma')\n",
    "    # print('ls', os.system('ls /project/project_462000451/DEEPlasma'))\n",
    " \n",
    "new_future = client.submit(ls)\n",
    "res = new_future.result()\n",
    "print(res)\n",
    "\n",
    "# futures = []\n",
    "# for i, sa in enumerate(samples):\n",
    "#     print(sa)\n",
    "#     run_id = f'gene_dask_test_{i}'\n",
    "#     # runner.code_run(sa, run_id)\n",
    "#     new_future = client.submit(\n",
    "#         runner.code_run, sa, run_id\n",
    "#     )\n",
    "#     futures.append(new_future)"
   ]
  },
  {
   "cell_type": "code",
   "execution_count": 10,
   "metadata": {},
   "outputs": [],
   "source": [
    "client.shutdown()\n"
   ]
  },
  {
   "cell_type": "code",
   "execution_count": 21,
   "metadata": {},
   "outputs": [
    {
     "data": {
      "text/plain": [
       "-285"
      ]
     },
     "execution_count": 21,
     "metadata": {},
     "output_type": "execute_result"
    }
   ],
   "source": [
    "def square(x):\n",
    "        return x ** 2\n",
    "\n",
    "def neg(x):\n",
    "        return -x\n",
    "\n",
    "A = client.map(square, range(10))\n",
    "B = client.map(neg, A)\n",
    "total = client.submit(sum, B)\n",
    "total.result()"
   ]
  },
  {
   "cell_type": "code",
   "execution_count": null,
   "metadata": {},
   "outputs": [],
   "source": [
    "from dask.distributed import Client, WorkerPlugin\n",
    "\n",
    "class MyPlugin(WorkerPlugin):\n",
    "    def setup(self, worker):\n",
    "        # This code runs when the worker starts up\n",
    "        print(f\"Worker {worker.address} is starting up\")\n",
    "        # You can run any command here, for example:\n",
    "        # os.system('your-command-here')\n",
    "\n",
    "# Connect to your Dask cluster\n",
    "client = Client('scheduler-address:port')\n",
    "\n",
    "# Register the plugin with the client\n",
    "client.register_worker_plugin(MyPlugin())\n"
   ]
  },
  {
   "cell_type": "code",
   "execution_count": null,
   "metadata": {},
   "outputs": [],
   "source": []
  },
  {
   "cell_type": "code",
   "execution_count": null,
   "metadata": {},
   "outputs": [],
   "source": []
  },
  {
   "cell_type": "code",
   "execution_count": null,
   "metadata": {},
   "outputs": [],
   "source": []
  },
  {
   "cell_type": "code",
   "execution_count": 1,
   "metadata": {},
   "outputs": [
    {
     "name": "stderr",
     "output_type": "stream",
     "text": [
      "/project/project_462000451/enchanted_container_lumi3/lib/python3.11/site-packages/distributed/node.py:187: UserWarning: Port 8787 is already in use.\n",
      "Perhaps you already have a cluster running?\n",
      "Hosting the HTTP server on port 36995 instead\n",
      "  warnings.warn(\n"
     ]
    }
   ],
   "source": [
    "\n",
    "from dask_jobqueue import SLURMCluster\n",
    "\n",
    "job_script_prologue = [\n",
    "    'export PATH=\"/project/project_462000451/enchanted_container_lumi3/bin:$PATH\"',\n",
    "    'cd /project/project_462000451/enchanted-surrogates/',\n",
    "    'export PYTHONPATH=$PYTHONPATH:/project/project_462000451/enchanted-surrogates/src' # NB: to use the enchanted-surrogate library\n",
    "]\n",
    "\n",
    "# set these values to what you need your scientific code to run\n",
    "cluster = SLURMCluster(\n",
    "    queue='small',\n",
    "    account=\"project_462000451\",\n",
    "    cores=1,\n",
    "    memory=\"1GB\",\n",
    "    walltime = \"00:10:00\",\n",
    "    interface= \"nmn0\",\n",
    "    job_script_prologue=job_script_prologue,\n",
    "    processes=1, # Keep this as 1\n",
    "    job_extra_directives=['-o %x.%j.out','-e %x.%j.err']\n",
    "    # Do not set these, leave as default\n",
    "    # n_workers = 2,\n",
    "    # job_cpu =10,\n",
    ")\n",
    "n_jobs = 4\n",
    "cluster.scale(n_jobs)"
   ]
  },
  {
   "cell_type": "code",
   "execution_count": 10,
   "metadata": {},
   "outputs": [
    {
     "name": "stdout",
     "output_type": "stream",
     "text": [
      "#!/usr/bin/env bash\n",
      "\n",
      "#SBATCH -J dask-worker\n",
      "#SBATCH -p small\n",
      "#SBATCH -A project_462000451\n",
      "#SBATCH -n 1\n",
      "#SBATCH --cpus-per-task=1\n",
      "#SBATCH --mem=954M\n",
      "#SBATCH -t 00:10:00\n",
      "#SBATCH -o %x.%j.out\n",
      "#SBATCH -e %x.%j.err\n",
      "export PATH=\"/project/project_462000451/enchanted_container_lumi3/bin:$PATH\"\n",
      "cd /project/project_462000451/enchanted-surrogates/\n",
      "export PYTHONPATH=$PYTHONPATH:/project/project_462000451/enchanted-surrogates/src\n",
      "/project/project_462000451/enchanted_container_lumi3/bin/python -m distributed.cli.dask_worker tcp://10.120.21.15:38935 --name dummy-name --nthreads 1 --memory-limit 0.93GiB --nanny --death-timeout 60 --interface nmn0\n",
      "\n"
     ]
    }
   ],
   "source": [
    "print(cluster.job_script())"
   ]
  },
  {
   "cell_type": "code",
   "execution_count": 2,
   "metadata": {},
   "outputs": [],
   "source": [
    "from dask.distributed import Client\n",
    "client = Client(cluster)"
   ]
  },
  {
   "cell_type": "code",
   "execution_count": 3,
   "metadata": {},
   "outputs": [
    {
     "data": {
      "text/html": [
       "<div>\n",
       "    <div style=\"width: 24px; height: 24px; background-color: #e1e1e1; border: 3px solid #9D9D9D; border-radius: 5px; position: absolute;\"> </div>\n",
       "    <div style=\"margin-left: 48px;\">\n",
       "        <h3 style=\"margin-bottom: 0px;\">Client</h3>\n",
       "        <p style=\"color: #9D9D9D; margin-bottom: 0px;\">Client-fa0353cd-00c8-11f0-af72-1402ece3c478</p>\n",
       "        <table style=\"width: 100%; text-align: left;\">\n",
       "\n",
       "        <tr>\n",
       "        \n",
       "            <td style=\"text-align: left;\"><strong>Connection method:</strong> Cluster object</td>\n",
       "            <td style=\"text-align: left;\"><strong>Cluster type:</strong> dask_jobqueue.SLURMCluster</td>\n",
       "        \n",
       "        </tr>\n",
       "\n",
       "        \n",
       "            <tr>\n",
       "                <td style=\"text-align: left;\">\n",
       "                    <strong>Dashboard: </strong> <a href=\"http://10.252.1.61:36995/status\" target=\"_blank\">http://10.252.1.61:36995/status</a>\n",
       "                </td>\n",
       "                <td style=\"text-align: left;\"></td>\n",
       "            </tr>\n",
       "        \n",
       "\n",
       "        </table>\n",
       "\n",
       "        \n",
       "\n",
       "        \n",
       "            <details>\n",
       "            <summary style=\"margin-bottom: 20px;\"><h3 style=\"display: inline;\">Cluster Info</h3></summary>\n",
       "            <div class=\"jp-RenderedHTMLCommon jp-RenderedHTML jp-mod-trusted jp-OutputArea-output\">\n",
       "    <div style=\"width: 24px; height: 24px; background-color: #e1e1e1; border: 3px solid #9D9D9D; border-radius: 5px; position: absolute;\">\n",
       "    </div>\n",
       "    <div style=\"margin-left: 48px;\">\n",
       "        <h3 style=\"margin-bottom: 0px; margin-top: 0px;\">SLURMCluster</h3>\n",
       "        <p style=\"color: #9D9D9D; margin-bottom: 0px;\">cc92d077</p>\n",
       "        <table style=\"width: 100%; text-align: left;\">\n",
       "            <tr>\n",
       "                <td style=\"text-align: left;\">\n",
       "                    <strong>Dashboard:</strong> <a href=\"http://10.252.1.61:36995/status\" target=\"_blank\">http://10.252.1.61:36995/status</a>\n",
       "                </td>\n",
       "                <td style=\"text-align: left;\">\n",
       "                    <strong>Workers:</strong> 4\n",
       "                </td>\n",
       "            </tr>\n",
       "            <tr>\n",
       "                <td style=\"text-align: left;\">\n",
       "                    <strong>Total threads:</strong> 4\n",
       "                </td>\n",
       "                <td style=\"text-align: left;\">\n",
       "                    <strong>Total memory:</strong> 3.72 GiB\n",
       "                </td>\n",
       "            </tr>\n",
       "            \n",
       "        </table>\n",
       "\n",
       "        <details>\n",
       "            <summary style=\"margin-bottom: 20px;\">\n",
       "                <h3 style=\"display: inline;\">Scheduler Info</h3>\n",
       "            </summary>\n",
       "\n",
       "            <div style=\"\">\n",
       "    <div>\n",
       "        <div style=\"width: 24px; height: 24px; background-color: #FFF7E5; border: 3px solid #FF6132; border-radius: 5px; position: absolute;\"> </div>\n",
       "        <div style=\"margin-left: 48px;\">\n",
       "            <h3 style=\"margin-bottom: 0px;\">Scheduler</h3>\n",
       "            <p style=\"color: #9D9D9D; margin-bottom: 0px;\">Scheduler-ee25bec7-2281-4eb7-98a3-c2d0ca143747</p>\n",
       "            <table style=\"width: 100%; text-align: left;\">\n",
       "                <tr>\n",
       "                    <td style=\"text-align: left;\">\n",
       "                        <strong>Comm:</strong> tcp://10.252.1.61:44843\n",
       "                    </td>\n",
       "                    <td style=\"text-align: left;\">\n",
       "                        <strong>Workers:</strong> 4\n",
       "                    </td>\n",
       "                </tr>\n",
       "                <tr>\n",
       "                    <td style=\"text-align: left;\">\n",
       "                        <strong>Dashboard:</strong> <a href=\"http://10.252.1.61:36995/status\" target=\"_blank\">http://10.252.1.61:36995/status</a>\n",
       "                    </td>\n",
       "                    <td style=\"text-align: left;\">\n",
       "                        <strong>Total threads:</strong> 4\n",
       "                    </td>\n",
       "                </tr>\n",
       "                <tr>\n",
       "                    <td style=\"text-align: left;\">\n",
       "                        <strong>Started:</strong> Just now\n",
       "                    </td>\n",
       "                    <td style=\"text-align: left;\">\n",
       "                        <strong>Total memory:</strong> 3.72 GiB\n",
       "                    </td>\n",
       "                </tr>\n",
       "            </table>\n",
       "        </div>\n",
       "    </div>\n",
       "\n",
       "    <details style=\"margin-left: 48px;\">\n",
       "        <summary style=\"margin-bottom: 20px;\">\n",
       "            <h3 style=\"display: inline;\">Workers</h3>\n",
       "        </summary>\n",
       "\n",
       "        \n",
       "        <div style=\"margin-bottom: 20px;\">\n",
       "            <div style=\"width: 24px; height: 24px; background-color: #DBF5FF; border: 3px solid #4CC9FF; border-radius: 5px; position: absolute;\"> </div>\n",
       "            <div style=\"margin-left: 48px;\">\n",
       "            <details>\n",
       "                <summary>\n",
       "                    <h4 style=\"margin-bottom: 0px; display: inline;\">Worker: SLURMCluster-0</h4>\n",
       "                </summary>\n",
       "                <table style=\"width: 100%; text-align: left;\">\n",
       "                    <tr>\n",
       "                        <td style=\"text-align: left;\">\n",
       "                            <strong>Comm: </strong> tcp://10.120.20.13:38063\n",
       "                        </td>\n",
       "                        <td style=\"text-align: left;\">\n",
       "                            <strong>Total threads: </strong> 1\n",
       "                        </td>\n",
       "                    </tr>\n",
       "                    <tr>\n",
       "                        <td style=\"text-align: left;\">\n",
       "                            <strong>Dashboard: </strong> <a href=\"http://10.120.20.13:44231/status\" target=\"_blank\">http://10.120.20.13:44231/status</a>\n",
       "                        </td>\n",
       "                        <td style=\"text-align: left;\">\n",
       "                            <strong>Memory: </strong> 0.93 GiB\n",
       "                        </td>\n",
       "                    </tr>\n",
       "                    <tr>\n",
       "                        <td style=\"text-align: left;\">\n",
       "                            <strong>Nanny: </strong> tcp://10.120.20.13:40859\n",
       "                        </td>\n",
       "                        <td style=\"text-align: left;\"></td>\n",
       "                    </tr>\n",
       "                    <tr>\n",
       "                        <td colspan=\"2\" style=\"text-align: left;\">\n",
       "                            <strong>Local directory: </strong> /tmp/dask-scratch-space/worker-6e_14oe4\n",
       "                        </td>\n",
       "                    </tr>\n",
       "\n",
       "                    \n",
       "\n",
       "                    \n",
       "\n",
       "                </table>\n",
       "            </details>\n",
       "            </div>\n",
       "        </div>\n",
       "        \n",
       "        <div style=\"margin-bottom: 20px;\">\n",
       "            <div style=\"width: 24px; height: 24px; background-color: #DBF5FF; border: 3px solid #4CC9FF; border-radius: 5px; position: absolute;\"> </div>\n",
       "            <div style=\"margin-left: 48px;\">\n",
       "            <details>\n",
       "                <summary>\n",
       "                    <h4 style=\"margin-bottom: 0px; display: inline;\">Worker: SLURMCluster-1</h4>\n",
       "                </summary>\n",
       "                <table style=\"width: 100%; text-align: left;\">\n",
       "                    <tr>\n",
       "                        <td style=\"text-align: left;\">\n",
       "                            <strong>Comm: </strong> tcp://10.120.20.13:45751\n",
       "                        </td>\n",
       "                        <td style=\"text-align: left;\">\n",
       "                            <strong>Total threads: </strong> 1\n",
       "                        </td>\n",
       "                    </tr>\n",
       "                    <tr>\n",
       "                        <td style=\"text-align: left;\">\n",
       "                            <strong>Dashboard: </strong> <a href=\"http://10.120.20.13:39533/status\" target=\"_blank\">http://10.120.20.13:39533/status</a>\n",
       "                        </td>\n",
       "                        <td style=\"text-align: left;\">\n",
       "                            <strong>Memory: </strong> 0.93 GiB\n",
       "                        </td>\n",
       "                    </tr>\n",
       "                    <tr>\n",
       "                        <td style=\"text-align: left;\">\n",
       "                            <strong>Nanny: </strong> tcp://10.120.20.13:38125\n",
       "                        </td>\n",
       "                        <td style=\"text-align: left;\"></td>\n",
       "                    </tr>\n",
       "                    <tr>\n",
       "                        <td colspan=\"2\" style=\"text-align: left;\">\n",
       "                            <strong>Local directory: </strong> /tmp/dask-scratch-space/worker-2o0q2_xe\n",
       "                        </td>\n",
       "                    </tr>\n",
       "\n",
       "                    \n",
       "\n",
       "                    \n",
       "\n",
       "                </table>\n",
       "            </details>\n",
       "            </div>\n",
       "        </div>\n",
       "        \n",
       "        <div style=\"margin-bottom: 20px;\">\n",
       "            <div style=\"width: 24px; height: 24px; background-color: #DBF5FF; border: 3px solid #4CC9FF; border-radius: 5px; position: absolute;\"> </div>\n",
       "            <div style=\"margin-left: 48px;\">\n",
       "            <details>\n",
       "                <summary>\n",
       "                    <h4 style=\"margin-bottom: 0px; display: inline;\">Worker: SLURMCluster-2</h4>\n",
       "                </summary>\n",
       "                <table style=\"width: 100%; text-align: left;\">\n",
       "                    <tr>\n",
       "                        <td style=\"text-align: left;\">\n",
       "                            <strong>Comm: </strong> tcp://10.120.20.13:43983\n",
       "                        </td>\n",
       "                        <td style=\"text-align: left;\">\n",
       "                            <strong>Total threads: </strong> 1\n",
       "                        </td>\n",
       "                    </tr>\n",
       "                    <tr>\n",
       "                        <td style=\"text-align: left;\">\n",
       "                            <strong>Dashboard: </strong> <a href=\"http://10.120.20.13:44051/status\" target=\"_blank\">http://10.120.20.13:44051/status</a>\n",
       "                        </td>\n",
       "                        <td style=\"text-align: left;\">\n",
       "                            <strong>Memory: </strong> 0.93 GiB\n",
       "                        </td>\n",
       "                    </tr>\n",
       "                    <tr>\n",
       "                        <td style=\"text-align: left;\">\n",
       "                            <strong>Nanny: </strong> tcp://10.120.20.13:37797\n",
       "                        </td>\n",
       "                        <td style=\"text-align: left;\"></td>\n",
       "                    </tr>\n",
       "                    <tr>\n",
       "                        <td colspan=\"2\" style=\"text-align: left;\">\n",
       "                            <strong>Local directory: </strong> /tmp/dask-scratch-space/worker-cchr1pvr\n",
       "                        </td>\n",
       "                    </tr>\n",
       "\n",
       "                    \n",
       "\n",
       "                    \n",
       "\n",
       "                </table>\n",
       "            </details>\n",
       "            </div>\n",
       "        </div>\n",
       "        \n",
       "        <div style=\"margin-bottom: 20px;\">\n",
       "            <div style=\"width: 24px; height: 24px; background-color: #DBF5FF; border: 3px solid #4CC9FF; border-radius: 5px; position: absolute;\"> </div>\n",
       "            <div style=\"margin-left: 48px;\">\n",
       "            <details>\n",
       "                <summary>\n",
       "                    <h4 style=\"margin-bottom: 0px; display: inline;\">Worker: SLURMCluster-3</h4>\n",
       "                </summary>\n",
       "                <table style=\"width: 100%; text-align: left;\">\n",
       "                    <tr>\n",
       "                        <td style=\"text-align: left;\">\n",
       "                            <strong>Comm: </strong> tcp://10.120.20.13:44593\n",
       "                        </td>\n",
       "                        <td style=\"text-align: left;\">\n",
       "                            <strong>Total threads: </strong> 1\n",
       "                        </td>\n",
       "                    </tr>\n",
       "                    <tr>\n",
       "                        <td style=\"text-align: left;\">\n",
       "                            <strong>Dashboard: </strong> <a href=\"http://10.120.20.13:41027/status\" target=\"_blank\">http://10.120.20.13:41027/status</a>\n",
       "                        </td>\n",
       "                        <td style=\"text-align: left;\">\n",
       "                            <strong>Memory: </strong> 0.93 GiB\n",
       "                        </td>\n",
       "                    </tr>\n",
       "                    <tr>\n",
       "                        <td style=\"text-align: left;\">\n",
       "                            <strong>Nanny: </strong> tcp://10.120.20.13:40455\n",
       "                        </td>\n",
       "                        <td style=\"text-align: left;\"></td>\n",
       "                    </tr>\n",
       "                    <tr>\n",
       "                        <td colspan=\"2\" style=\"text-align: left;\">\n",
       "                            <strong>Local directory: </strong> /tmp/dask-scratch-space/worker-dx61rcjh\n",
       "                        </td>\n",
       "                    </tr>\n",
       "\n",
       "                    \n",
       "\n",
       "                    \n",
       "\n",
       "                </table>\n",
       "            </details>\n",
       "            </div>\n",
       "        </div>\n",
       "        \n",
       "\n",
       "    </details>\n",
       "</div>\n",
       "\n",
       "        </details>\n",
       "    </div>\n",
       "</div>\n",
       "            </details>\n",
       "        \n",
       "\n",
       "    </div>\n",
       "</div>"
      ],
      "text/plain": [
       "<Client: 'tcp://10.252.1.61:44843' processes=4 threads=4, memory=3.72 GiB>"
      ]
     },
     "execution_count": 3,
     "metadata": {},
     "output_type": "execute_result"
    }
   ],
   "source": [
    "client"
   ]
  },
  {
   "cell_type": "code",
   "execution_count": 21,
   "metadata": {},
   "outputs": [
    {
     "name": "stdout",
     "output_type": "stream",
     "text": [
      "<Client: 'tcp://10.252.1.81:44777' processes=8 threads=800, memory=7.44 GiB>\n"
     ]
    }
   ],
   "source": [
    "print(client)"
   ]
  },
  {
   "cell_type": "code",
   "execution_count": 33,
   "metadata": {},
   "outputs": [
    {
     "name": "stdout",
     "output_type": "stream",
     "text": [
      "<Client: 'tcp://10.252.1.61:38679' processes=4 threads=4, memory=3.72 GiB>\n",
      "Worker: tcp://10.120.20.29:35305\n",
      "  Memory: 1.00 GB\n",
      "  Cores: 1\n",
      "  Host: 10.120.20.29\n",
      "  Local Directory: /tmp/dask-scratch-space/worker-c72agrf3\n",
      "\n",
      "Worker: tcp://10.120.20.29:40063\n",
      "  Memory: 1.00 GB\n",
      "  Cores: 1\n",
      "  Host: 10.120.20.29\n",
      "  Local Directory: /tmp/dask-scratch-space/worker-yond3owg\n",
      "\n",
      "Worker: tcp://10.120.20.29:41283\n",
      "  Memory: 1.00 GB\n",
      "  Cores: 1\n",
      "  Host: 10.120.20.29\n",
      "  Local Directory: /tmp/dask-scratch-space/worker-ts6se_67\n",
      "\n",
      "Worker: tcp://10.120.20.29:41835\n",
      "  Memory: 1.00 GB\n",
      "  Cores: 1\n",
      "  Host: 10.120.20.29\n",
      "  Local Directory: /tmp/dask-scratch-space/worker-fnd8pxmv\n",
      "\n"
     ]
    }
   ],
   "source": [
    "from dask.distributed import Client\n",
    "\n",
    "# Connect to the Dask cluster\n",
    "# client = Client('tcp://scheduler-address:port')\n",
    "\n",
    "# Print client information\n",
    "print(client)\n",
    "\n",
    "# Get detailed information about workers\n",
    "workers_info = client.scheduler_info()['workers']\n",
    "for worker, info in workers_info.items():\n",
    "    print(f\"Worker: {worker}\")\n",
    "    print(f\"  Memory: {info['memory_limit'] / 1e9:.2f} GB\")\n",
    "    print(f\"  Cores: {info['nthreads']}\")\n",
    "    print(f\"  Host: {info['host']}\")\n",
    "    print(f\"  Local Directory: {info['local_directory']}\")\n",
    "    print()\n"
   ]
  },
  {
   "cell_type": "code",
   "execution_count": null,
   "metadata": {},
   "outputs": [],
   "source": []
  }
 ],
 "metadata": {
  "kernelspec": {
   "display_name": "enchanted_container_lumi3",
   "language": "python",
   "name": "python3"
  },
  "language_info": {
   "codemirror_mode": {
    "name": "ipython",
    "version": 3
   },
   "file_extension": ".py",
   "mimetype": "text/x-python",
   "name": "python",
   "nbconvert_exporter": "python",
   "pygments_lexer": "ipython3",
   "version": "3.11.7"
  }
 },
 "nbformat": 4,
 "nbformat_minor": 2
}
