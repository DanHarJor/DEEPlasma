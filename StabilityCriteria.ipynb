{
 "cells": [
  {
   "cell_type": "code",
   "execution_count": null,
   "metadata": {},
   "outputs": [],
   "source": []
  },
  {
   "cell_type": "markdown",
   "metadata": {},
   "source": [
    "# Generate some data and then try to manually continue from latest checkpoint."
   ]
  },
  {
   "cell_type": "code",
   "execution_count": 1,
   "metadata": {},
   "outputs": [
    {
     "name": "stderr",
     "output_type": "stream",
     "text": [
      "/home/djdaniel/anaconda3/envs/gene_ml/lib/python3.12/site-packages/paramiko/pkey.py:82: CryptographyDeprecationWarning: TripleDES has been moved to cryptography.hazmat.decrepit.ciphers.algorithms.TripleDES and will be removed from this module in 48.0.0.\n",
      "  \"cipher\": algorithms.TripleDES,\n",
      "/home/djdaniel/anaconda3/envs/gene_ml/lib/python3.12/site-packages/paramiko/transport.py:219: CryptographyDeprecationWarning: Blowfish has been moved to cryptography.hazmat.decrepit.ciphers.algorithms.Blowfish and will be removed from this module in 45.0.0.\n",
      "  \"class\": algorithms.Blowfish,\n",
      "/home/djdaniel/anaconda3/envs/gene_ml/lib/python3.12/site-packages/paramiko/transport.py:243: CryptographyDeprecationWarning: TripleDES has been moved to cryptography.hazmat.decrepit.ciphers.algorithms.TripleDES and will be removed from this module in 48.0.0.\n",
      "  \"class\": algorithms.TripleDES,\n"
     ]
    },
    {
     "name": "stdout",
     "output_type": "stream",
     "text": [
      "Appending to path: /home/djdaniel/DEEPlasma/config\n"
     ]
    },
    {
     "ename": "TypeError",
     "evalue": "DataGen.__init__() got an unexpected keyword argument 'single_run_simtimelim'",
     "output_type": "error",
     "traceback": [
      "\u001b[0;31m---------------------------------------------------------------------------\u001b[0m",
      "\u001b[0;31mTypeError\u001b[0m                                 Traceback (most recent call last)",
      "Cell \u001b[0;32mIn[1], line 27\u001b[0m\n\u001b[1;32m     24\u001b[0m single_run_timelim \u001b[38;5;241m=\u001b[39m \u001b[38;5;241m900\u001b[39m\n\u001b[1;32m     25\u001b[0m single_run_simtimelim \u001b[38;5;241m=\u001b[39m \u001b[38;5;241m10e-2\u001b[39m\u001b[38;5;66;03m#put this in seconds and it will be converted to the correct units for GENE\u001b[39;00m\n\u001b[0;32m---> 27\u001b[0m datagen \u001b[38;5;241m=\u001b[39m \u001b[43mDataGen\u001b[49m\u001b[43m(\u001b[49m\u001b[43mconfig\u001b[49m\u001b[43m,\u001b[49m\u001b[43m \u001b[49m\u001b[43msampler_uniform\u001b[49m\u001b[43m,\u001b[49m\u001b[43m \u001b[49m\n\u001b[1;32m     28\u001b[0m \u001b[43m                  \u001b[49m\u001b[43mex_id\u001b[49m\u001b[38;5;241;43m=\u001b[39;49m\u001b[43mex_id\u001b[49m\u001b[43m,\u001b[49m\u001b[43m \u001b[49m\u001b[43mremote_save_name\u001b[49m\u001b[38;5;241;43m=\u001b[39;49m\u001b[43mremote_save_name\u001b[49m\u001b[43m,\u001b[49m\u001b[43m \u001b[49m\n\u001b[1;32m     29\u001b[0m \u001b[43m                  \u001b[49m\u001b[43msingle_run_timelim\u001b[49m\u001b[38;5;241;43m=\u001b[39;49m\u001b[43msingle_run_simtimelim\u001b[49m\u001b[43m,\u001b[49m\u001b[43m \u001b[49m\n\u001b[1;32m     30\u001b[0m \u001b[43m                  \u001b[49m\u001b[43msingle_run_simtimelim\u001b[49m\u001b[38;5;241;43m=\u001b[39;49m\u001b[43msingle_run_simtimelim\u001b[49m\u001b[43m,\u001b[49m\u001b[43m \u001b[49m\u001b[43mnum_workers\u001b[49m\u001b[38;5;241;43m=\u001b[39;49m\u001b[38;5;241;43m1\u001b[39;49m\u001b[43m)\u001b[49m\n",
      "\u001b[0;31mTypeError\u001b[0m: DataGen.__init__() got an unexpected keyword argument 'single_run_simtimelim'"
     ]
    }
   ],
   "source": [
    "import sys\n",
    "import os\n",
    "pathap = os.path.join('GENE_ML','gene_ml','static_sparse_grid_approximations')\n",
    "sys.path.append(pathap)\n",
    "from GENE_ML.gene_ml.samplers.uniform import Uniform\n",
    "from GENE_ML.gene_ml.datagen.datagen import DataGen\n",
    "\n",
    "# check config.py\n",
    "from config import config\n",
    "\n",
    "parameters = ['_grp_species_0-omt','_grp_species_1-omt','species-omn']\n",
    "bounds = [(4,6.7), (2.1,3.5), (0.16,2.9)] #if bounds is a float rather than tuple then the sampler will make that the only value\n",
    "\n",
    "num_samples = 5\n",
    "\n",
    "sampler_uniform = Uniform(parameters=parameters, num_samples=num_samples ,bounds=bounds)\n",
    "\n",
    "# Folder name for the data to be saved in within the self.remote_save_base_dir of config\n",
    "remote_save_name = \"data_gen_tutorial4\"\n",
    "\n",
    "# This is used to identify the problem folder in gene\n",
    "ex_id = 'dgt4'\n",
    "\n",
    "single_run_timelim = 900\n",
    "single_run_simtimelim = 10e-2#put this in seconds and it will be converted to the correct units for GENE\n",
    "\n",
    "datagen = DataGen(config, sampler_uniform, \n",
    "                  ex_id=ex_id, remote_save_name=remote_save_name, \n",
    "                  single_run_timelim=single_run_simtimelim, \n",
    "                  single_run_simtimelim=single_run_simtimelim, num_workers=1)\n",
    "\n"
   ]
  },
  {
   "cell_type": "markdown",
   "metadata": {},
   "source": [
    "# Fill a 4D space (grad Ti/Te, grad n, ky), gradually increase the time limit and record how many modes remane \"stable\". \n",
    "Use low precision to save compute. Use moderate resolution to avoid microinstabilities.  \n",
    "\n",
    "We can never be sure a parameter point is stable but we can say that we ran it for so long an no instabilites occured. "
   ]
  },
  {
   "cell_type": "markdown",
   "metadata": {},
   "source": []
  },
  {
   "cell_type": "code",
   "execution_count": 1,
   "metadata": {},
   "outputs": [],
   "source": [
    "%load_ext autoreload\n",
    "%autoreload 2"
   ]
  },
  {
   "cell_type": "code",
   "execution_count": null,
   "metadata": {},
   "outputs": [],
   "source": [
    "input_fpath = 'ssh:lumi'\n",
    "with open(input_fpath, 'w') as file:\n",
    "    file.write(namelist_string)  "
   ]
  },
  {
   "cell_type": "code",
   "execution_count": 40,
   "metadata": {},
   "outputs": [
    {
     "name": "stdout",
     "output_type": "stream",
     "text": [
      "hello\n",
      "None\n"
     ]
    }
   ],
   "source": [
    "hi = print('hello')\n",
    "\n",
    "print(hi)"
   ]
  },
  {
   "cell_type": "code",
   "execution_count": 2,
   "metadata": {},
   "outputs": [],
   "source": [
    "from GENE_ML.gene_ml.parsers.GENEparser import GENE_scan_parser\n",
    "from config import config\n",
    "\n",
    "\n",
    "\n",
    "from config import config\n",
    "\n",
    "# remote_params_file = config.paramiko_sftp_client.open('gene/prob01/parameters', 'rw')\n",
    "# paramiko_file_type = type(remote_params_file)\n",
    "# dummy = config.paramiko_sftp_client.open('dummy')\n",
    "parser = GENE_scan_parser(config.save_dir)\n",
    "# print('ttype', type(parser.base_params_dir))\n",
    "parser.alter_parameters_file('gene/prob01/parameters', group_var=['parallelization', 'n_procs_s'], value='yes yes yes')\n",
    "\n",
    "\n",
    "# parser.alter_base(group_var='box_nx0', value='unicorn_squid')\n",
    "\n",
    "# for line in remote_file:\n",
    "#     print(line)\n",
    "\n",
    "\n",
    "\n",
    "# command = 'cat gene/prob01/parameters'\n",
    "# stdin, stdout, stderr = config.paramiko_ssh_client.exec_command(command)\n",
    "# for line in stdout.readlines():\n",
    "#     print(line)\n"
   ]
  },
  {
   "cell_type": "code",
   "execution_count": null,
   "metadata": {},
   "outputs": [],
   "source": []
  }
 ],
 "metadata": {
  "kernelspec": {
   "display_name": "gene_ml",
   "language": "python",
   "name": "python3"
  },
  "language_info": {
   "codemirror_mode": {
    "name": "ipython",
    "version": 3
   },
   "file_extension": ".py",
   "mimetype": "text/x-python",
   "name": "python",
   "nbconvert_exporter": "python",
   "pygments_lexer": "ipython3",
   "version": "3.12.3"
  }
 },
 "nbformat": 4,
 "nbformat_minor": 2
}
