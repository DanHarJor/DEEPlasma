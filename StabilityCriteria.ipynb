{
 "cells": [
  {
   "cell_type": "code",
   "execution_count": null,
   "metadata": {},
   "outputs": [],
   "source": []
  },
  {
   "cell_type": "markdown",
   "metadata": {},
   "source": [
    "# Fill a 4D space (grad Ti/Te, grad n, ky), gradually increase the time limit and record how many modes remane \"stable\". \n",
    "Use low precision to save compute. Use moderate resolution to avoid microinstabilities.  \n",
    "\n",
    "We can never be sure a parameter point is stable but we can say that we ran it for so long an no instabilites occured. "
   ]
  },
  {
   "cell_type": "markdown",
   "metadata": {},
   "source": []
  },
  {
   "cell_type": "code",
   "execution_count": 1,
   "metadata": {},
   "outputs": [],
   "source": [
    "%load_ext autoreload\n",
    "%autoreload 2"
   ]
  },
  {
   "cell_type": "code",
   "execution_count": null,
   "metadata": {},
   "outputs": [],
   "source": [
    "input_fpath = 'ssh:lumi'\n",
    "with open(input_fpath, 'w') as file:\n",
    "    file.write(namelist_string)  "
   ]
  },
  {
   "cell_type": "code",
   "execution_count": 40,
   "metadata": {},
   "outputs": [
    {
     "name": "stdout",
     "output_type": "stream",
     "text": [
      "hello\n",
      "None\n"
     ]
    }
   ],
   "source": [
    "hi = print('hello')\n",
    "\n",
    "print(hi)"
   ]
  },
  {
   "cell_type": "code",
   "execution_count": 45,
   "metadata": {},
   "outputs": [
    {
     "name": "stdout",
     "output_type": "stream",
     "text": [
      "ttype <class 'paramiko.sftp_file.SFTPFile'>\n"
     ]
    }
   ],
   "source": [
    "from GENE_ML.gene_ml.parsers.GENEparser import GENE_scan_parser\n",
    "from config import config\n",
    "\n",
    "\n",
    "\n",
    "from config import config\n",
    "\n",
    "remote_params_file = config.paramiko_sftp_client.open('gene/prob01/parameters', 'rw')\n",
    "paramiko_file_type = type(remote_params_file)\n",
    "# dummy = config.paramiko_sftp_client.open('dummy')\n",
    "parser = GENE_scan_parser(config.save_dir, remote_params_file)\n",
    "print('ttype', type(parser.base_params_dir))\n",
    "parser.base_params_dir.write('unisquid')\n",
    "\n",
    "\n",
    "\n",
    "# parser.alter_base(group_var='box_nx0', value='unicorn_squid')\n",
    "\n",
    "# for line in remote_file:\n",
    "#     print(line)\n",
    "\n",
    "\n",
    "\n",
    "# command = 'cat gene/prob01/parameters'\n",
    "# stdin, stdout, stderr = config.paramiko_ssh_client.exec_command(command)\n",
    "# for line in stdout.readlines():\n",
    "#     print(line)\n"
   ]
  },
  {
   "cell_type": "code",
   "execution_count": null,
   "metadata": {},
   "outputs": [],
   "source": []
  }
 ],
 "metadata": {
  "kernelspec": {
   "display_name": "gene_ml",
   "language": "python",
   "name": "python3"
  },
  "language_info": {
   "codemirror_mode": {
    "name": "ipython",
    "version": 3
   },
   "file_extension": ".py",
   "mimetype": "text/x-python",
   "name": "python",
   "nbconvert_exporter": "python",
   "pygments_lexer": "ipython3",
   "version": "3.12.3"
  }
 },
 "nbformat": 4,
 "nbformat_minor": 2
}
