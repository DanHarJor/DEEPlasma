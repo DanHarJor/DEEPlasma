{
 "cells": [
  {
   "cell_type": "code",
   "execution_count": 5,
   "metadata": {},
   "outputs": [
    {
     "name": "stdout",
     "output_type": "stream",
     "text": [
      "The autoreload extension is already loaded. To reload it, use:\n",
      "  %reload_ext autoreload\n"
     ]
    }
   ],
   "source": [
    "%load_ext autoreload\n",
    "%autoreload 2"
   ]
  },
  {
   "cell_type": "code",
   "execution_count": 9,
   "metadata": {},
   "outputs": [],
   "source": [
    "import sys\n",
    "import os\n",
    "pathap = os.path.join('GENE_ML','gene_ml','static_sparse_grid_approximations')\n",
    "sys.path.append(pathap)\n",
    "from GENE_ML.gene_ml.samplers.uniform import Uniform\n",
    "from GENE_ML.gene_ml.datagen.datagen import DataGen\n",
    "\n",
    "# check config.py\n",
    "from config import config\n",
    "\n",
    "parameters = ['_grp_species_0-omt','_grp_species_1-omt','species-omn']\n",
    "bounds = [(4,6.7), (2.1,3.5), (0.16,2.9)] #if bounds is a float rather than tuple then the sampler will make that the only value\n",
    "\n",
    "num_samples = 8\n",
    "\n",
    "sampler_uniform = Uniform(parameters=parameters, num_samples=num_samples ,bounds=bounds)\n",
    "\n",
    "# Folder name for the data to be saved in within the self.remote_save_base_dir of config\n",
    "remote_save_name = \"code_debug_tester\"\n",
    "\n",
    "# This is used to identify the problem folder in gene\n",
    "ex_id = 'code_debug_tester'\n",
    "\n",
    "single_run_timelim = 10000\n",
    "single_run_simtimelim = 1e-10 #10e-2#put this in seconds and it will be converted to the correct units for GENE\n",
    "\n",
    "datagen = DataGen(config, sampler_uniform, \n",
    "                  ex_id=ex_id, remote_save_name=remote_save_name, \n",
    "                  single_run_timelim=single_run_timelim, \n",
    "                  single_run_simtimelim=single_run_simtimelim, num_workers=2)\n",
    "\n"
   ]
  },
  {
   "cell_type": "code",
   "execution_count": 10,
   "metadata": {},
   "outputs": [
    {
     "name": "stdout",
     "output_type": "stream",
     "text": [
      "\n",
      "EXECUTOR, PRINT_CHECK_PARAMETERS\n",
      " ----------------------------------------------------------------------------------------------------\n",
      "\n",
      "\n",
      "SINGLE RUN TIMELIM 1e-10 N SAMPLES 4\n",
      "THE ESTIMATED WALLTIME FOR RUN ex-code_debug_tester_batch-0 is 00-00:00:0, dd-hh-mm-ss TO RUN 4 SAMPLES\n",
      "ALTERING THE BASE PARAMETERS FILE TO SET THE TIMELIM AND SIMTIMELIM TO THE WALLTIME\n",
      "Writing to /home/djdaniel/DEEPlasma/parameters_base_dependancies_fixed_dp\n",
      "\n",
      "\n",
      "CODE RUN: SETTING SIMULATION TIME LIMMIT\n",
      "\n",
      "\n",
      "!!WARNING!!, tref is being computed by gene but we do not know what it is, so using a default value of 0.501585859244667\n",
      "\n",
      "\n",
      "PARSER\n",
      ", SET_SIMTIMELIM, SIMTIMLIM_GENE: 6.584296553193289e-11\n",
      "TREF 0.501585859244667 MREF 2.0 CREF 0.5007923018800644 LREF 0.760585884664\n",
      "Writing to /home/djdaniel/DEEPlasma/parameters_base_dependancies_fixed_dp\n",
      "PARSING SAMPLES TO INPUT FILE at temp/parameters_ex-code_debug_tester_batch-0\n",
      "Writing to /home/djdaniel/DEEPlasma/temp/\n",
      "&parallelization\n",
      "    n_procs_s = 2\n",
      "    n_procs_v = 1\n",
      "    n_procs_w = 8\n",
      "    n_procs_x = 1\n",
      "    n_procs_y = 1\n",
      "    n_procs_z = 8\n",
      "    n_procs_sim = 128\n",
      "    n_parallel_sims = 1\n",
      "/\n",
      "\n",
      "&box\n",
      "    n_spec = 2\n",
      "    nx0 = 9\n",
      "    nky0 = 1\n",
      "    nz0 = 120\n",
      "    nv0 = 32\n",
      "    nw0 = 8\n",
      "    lv = 3.0\n",
      "    lw = 9.0\n",
      "    x0 = 0.96\n",
      "    kymin = 48.0\n",
      "    kx_center = 0.0\n",
      "/\n",
      "\n",
      "&in_out\n",
      "    diagdir = '/scratch/project_462000451/gene_out/gene_auto/code_debug_tester'\n",
      "    read_checkpoint = .false.\n",
      "    write_checkpoint = .true.\n",
      "    istep_nrg = 10\n",
      "    istep_omega = 10\n",
      "    istep_field = 10\n",
      "    istep_energy = 10\n",
      "    istep_mom = 10\n",
      "    istep_vsp = 10\n",
      "    istep_schpt = 10\n",
      "/\n",
      "\n",
      "&general\n",
      "    bpar = .true.\n",
      "    nonlinear = .false.\n",
      "    x_local = .true.\n",
      "    arakawa_zv = .false.\n",
      "    comp_type = 'IV'\n",
      "    calc_dt = .true.\n",
      "    ntimesteps = 1000000\n",
      "    timelim = 4e-10\n",
      "    simtimelim = 6.584296553193289e-11\n",
      "    hyp_z = -2\n",
      "    hyp_v = 0.2\n",
      "    init_cond = 'alm'\n",
      "    beta = 0.0022366753\n",
      "    debye2 = 0.00023915662\n",
      "    tau = 1.7\n",
      "    collision_op = 'landau'\n",
      "    coll = 0.0042788004\n",
      "    coll_cons_model = 'xu_rosenbluth'\n",
      "/\n",
      "\n",
      "&geometry\n",
      "    magn_geometry = 'miller'\n",
      "    trpeps = 0.25643\n",
      "    q0 = 2.2851\n",
      "    shat = 2.2142\n",
      "    amhd = -1\n",
      "    drr = -0.14686\n",
      "    drz = -0.076232\n",
      "    kappa = 1.349\n",
      "    s_kappa = 0.23129\n",
      "    delta = 0.055595\n",
      "    s_delta = 0.14461\n",
      "    zeta = -0.012412\n",
      "    s_zeta = -0.063568\n",
      "    minor_r = 1\n",
      "    major_r = 3.1481\n",
      "/\n",
      "\n",
      "&species\n",
      "    name = 'i'\n",
      "    omn = 15.265123      !scanlist: 2.48190018720759, 1.7504442401090756, 1.4472452865824725, 0.35187644296431486\n",
      "    omt = 28.287016       !scanwith: 0, 4.499231246938652, 4.539036873614143, 6.083308151466447, 5.8362093542606495\n",
      "    mass = 1.0\n",
      "    temp = 1.0\n",
      "    dens = 1.0\n",
      "    charge = 1\n",
      "/\n",
      "\n",
      "&species\n",
      "    name = 'e'\n",
      "    omn = 15.265123       !scanwith: 0, 2.48190018720759, 1.7504442401090756, 1.4472452865824725, 0.35187644296431486\n",
      "    omt = 28.287016       !scanwith: 0, 2.8822311886479164, 3.319788295386458, 2.7268713676005207, 3.3184305822396203\n",
      "    mass = 0.0002724\n",
      "    temp = 1.0\n",
      "    dens = 1.0\n",
      "    charge = -1\n",
      "/\n",
      "\n",
      "&units\n",
      "    lref = 0.760585884664\n",
      "    mref = 2.0\n",
      "    tref = -1\n",
      "    nref = -1\n",
      "    bref = -1\n",
      "/\n"
     ]
    }
   ],
   "source": [
    "datagen.executor.print_check_parameters()"
   ]
  },
  {
   "cell_type": "code",
   "execution_count": 8,
   "metadata": {},
   "outputs": [
    {
     "name": "stdout",
     "output_type": "stream",
     "text": [
      "====================================================================================================\n",
      "EXECUTING BATCHES\n",
      "\n",
      "CODE RUN\n",
      "\n",
      "\n",
      "SINGLE RUN TIMELIM 1e-10 N SAMPLES 4\n",
      "THE ESTIMATED WALLTIME FOR RUN ex-code_debug_tester_batch-0 is 00-00:00:0, dd-hh-mm-ss TO RUN 4 SAMPLES\n",
      "ALTERING THE BASE PARAMETERS FILE TO SET THE TIMELIM AND SIMTIMELIM TO THE WALLTIME\n",
      "Writing to /home/djdaniel/DEEPlasma/parameters_base_dependancies_fixed_dp\n",
      "\n",
      "\n",
      "CODE RUN: SETTING SIMULATION TIME LIMMIT\n",
      "\n",
      "\n",
      "!!WARNING!!, tref is being computed by gene but we do not know what it is, so using a default value of 0.501585859244667\n",
      "\n",
      "\n",
      "PARSER\n",
      ", SET_SIMTIMELIM, SIMTIMLIM_GENE: 6.584296553193289e-11\n",
      "TREF 0.501585859244667 MREF 2.0 CREF 0.5007923018800644 LREF 0.760585884664\n",
      "Writing to /home/djdaniel/DEEPlasma/parameters_base_dependancies_fixed_dp\n",
      "PARSING SAMPLES TO INPUT FILE at temp/parameters_ex-code_debug_tester_batch-0\n",
      "Writing to /home/djdaniel/DEEPlasma/temp/\n",
      "GENERATING SBATCH FROM PARAMETERS FILE at temp/sbatch_ex-code_debug_tester_batch-0\n",
      "WALL CLOCK LIMIT FOR BATCH ex-code_debug_tester_batch-0:   00-00:00:0\n",
      "CREATING A NEW PROBLEM DIR WITH SSH\n",
      "MOVING PARAMETERS AND SBATCH FILES TO CORRECT LOCATION IN REMOTE; SUBMITTING GENE SBATCH\n",
      "set lib path in ./tools/scanscript\n",
      "set lib path in ./tools/scanscript\n",
      "created prob08\n",
      "copied parameters\n",
      "created link to the GENE executable in the bin directory\n",
      "CREATING auto_prob_ex-code_debug_tester_batch-0 in /project/project_462000451/gene/\n"
     ]
    },
    {
     "name": "stderr",
     "output_type": "stream",
     "text": [
      "sbatch: error: Batch job submission failed: Requested time limit is invalid (missing or exceeds some limit)\n"
     ]
    },
    {
     "ename": "CalledProcessError",
     "evalue": "Command 'ssh lumi 'cd /project/project_462000451/gene//auto_prob_ex-code_debug_tester_batch-0; sbatch submit.cmd; exit'' returned non-zero exit status 1.",
     "output_type": "error",
     "traceback": [
      "\u001b[0;31m---------------------------------------------------------------------------\u001b[0m",
      "\u001b[0;31mCalledProcessError\u001b[0m                        Traceback (most recent call last)",
      "Cell \u001b[0;32mIn[8], line 1\u001b[0m\n\u001b[0;32m----> 1\u001b[0m \u001b[43mdatagen\u001b[49m\u001b[38;5;241;43m.\u001b[39;49m\u001b[43mexecutor\u001b[49m\u001b[38;5;241;43m.\u001b[39;49m\u001b[43mstart_runs\u001b[49m\u001b[43m(\u001b[49m\u001b[43m)\u001b[49m\n",
      "File \u001b[0;32m~/DEEPlasma/GENE_ML/gene_ml/executors/ScanExecutor.py:29\u001b[0m, in \u001b[0;36mScanExecutor.start_runs\u001b[0;34m(self)\u001b[0m\n\u001b[1;32m     27\u001b[0m \u001b[38;5;28;01mfor\u001b[39;00m batch, rid \u001b[38;5;129;01min\u001b[39;00m \u001b[38;5;28mzip\u001b[39m(\u001b[38;5;28mself\u001b[39m\u001b[38;5;241m.\u001b[39mbatches, \u001b[38;5;28mself\u001b[39m\u001b[38;5;241m.\u001b[39mrun_ids):\n\u001b[1;32m     28\u001b[0m     \u001b[38;5;28mself\u001b[39m\u001b[38;5;241m.\u001b[39mrunner\u001b[38;5;241m.\u001b[39mparser\u001b[38;5;241m.\u001b[39mremote_save_dir \u001b[38;5;241m=\u001b[39m os\u001b[38;5;241m.\u001b[39mpath\u001b[38;5;241m.\u001b[39mjoin(\u001b[38;5;28mself\u001b[39m\u001b[38;5;241m.\u001b[39mremote_save_dir, \u001b[38;5;124mf\u001b[39m\u001b[38;5;124m'\u001b[39m\u001b[38;5;132;01m{\u001b[39;00mrid\u001b[38;5;132;01m}\u001b[39;00m\u001b[38;5;124m'\u001b[39m)\n\u001b[0;32m---> 29\u001b[0m     \u001b[38;5;28mself\u001b[39m\u001b[38;5;241m.\u001b[39msbatch_ids\u001b[38;5;241m.\u001b[39mappend(\u001b[38;5;28;43mself\u001b[39;49m\u001b[38;5;241;43m.\u001b[39;49m\u001b[43mrunner\u001b[49m\u001b[38;5;241;43m.\u001b[39;49m\u001b[43mcode_run\u001b[49m\u001b[43m(\u001b[49m\u001b[43mbatch\u001b[49m\u001b[43m,\u001b[49m\u001b[43m \u001b[49m\u001b[43mrun_id\u001b[49m\u001b[38;5;241;43m=\u001b[39;49m\u001b[43mrid\u001b[49m\u001b[43m)\u001b[49m)\n",
      "File \u001b[0;32m~/DEEPlasma/GENE_ML/gene_ml/runners/GENErunner.py:150\u001b[0m, in \u001b[0;36mGENErunner.code_run\u001b[0;34m(self, samples, run_id)\u001b[0m\n\u001b[1;32m    148\u001b[0m \u001b[38;5;28mprint\u001b[39m(\u001b[38;5;124mf\u001b[39m\u001b[38;5;124m'\u001b[39m\u001b[38;5;124mCREATING auto_prob_\u001b[39m\u001b[38;5;132;01m{\u001b[39;00mrun_id\u001b[38;5;132;01m}\u001b[39;00m\u001b[38;5;124m in \u001b[39m\u001b[38;5;132;01m{\u001b[39;00m\u001b[38;5;28mself\u001b[39m\u001b[38;5;241m.\u001b[39mremote_run_dir\u001b[38;5;132;01m}\u001b[39;00m\u001b[38;5;124m'\u001b[39m) \n\u001b[1;32m    149\u001b[0m command \u001b[38;5;241m=\u001b[39m \u001b[38;5;124mf\u001b[39m\u001b[38;5;124m\"\u001b[39m\u001b[38;5;124mssh \u001b[39m\u001b[38;5;132;01m{\u001b[39;00m\u001b[38;5;28mself\u001b[39m\u001b[38;5;241m.\u001b[39mhost\u001b[38;5;132;01m}\u001b[39;00m\u001b[38;5;124m \u001b[39m\u001b[38;5;124m'\u001b[39m\u001b[38;5;124mcd \u001b[39m\u001b[38;5;132;01m{\u001b[39;00m\u001b[38;5;28mself\u001b[39m\u001b[38;5;241m.\u001b[39mremote_run_dir\u001b[38;5;132;01m}\u001b[39;00m\u001b[38;5;124m/auto_prob_\u001b[39m\u001b[38;5;132;01m{\u001b[39;00mrun_id\u001b[38;5;132;01m}\u001b[39;00m\u001b[38;5;124m; sbatch submit.cmd; exit\u001b[39m\u001b[38;5;124m'\u001b[39m\u001b[38;5;124m\"\u001b[39m\n\u001b[0;32m--> 150\u001b[0m sbatch_id \u001b[38;5;241m=\u001b[39m \u001b[43msubprocess\u001b[49m\u001b[38;5;241;43m.\u001b[39;49m\u001b[43mcheck_output\u001b[49m\u001b[43m(\u001b[49m\u001b[43mcommand\u001b[49m\u001b[43m,\u001b[49m\u001b[43m \u001b[49m\u001b[43mshell\u001b[49m\u001b[38;5;241;43m=\u001b[39;49m\u001b[38;5;28;43;01mTrue\u001b[39;49;00m\u001b[43m,\u001b[49m\u001b[43m \u001b[49m\u001b[43mtext\u001b[49m\u001b[38;5;241;43m=\u001b[39;49m\u001b[38;5;28;43;01mTrue\u001b[39;49;00m\u001b[43m)\u001b[49m\n\u001b[1;32m    151\u001b[0m sbatch_id \u001b[38;5;241m=\u001b[39m sbatch_id\u001b[38;5;241m.\u001b[39mstrip()\u001b[38;5;241m.\u001b[39msplit(\u001b[38;5;124m'\u001b[39m\u001b[38;5;124m \u001b[39m\u001b[38;5;124m'\u001b[39m)[\u001b[38;5;241m-\u001b[39m\u001b[38;5;241m1\u001b[39m]\n\u001b[1;32m    153\u001b[0m \u001b[38;5;28mprint\u001b[39m(\u001b[38;5;124m'\u001b[39m\u001b[38;5;124mSUBMITTED SBATCH ID\u001b[39m\u001b[38;5;124m'\u001b[39m,sbatch_id)\n",
      "File \u001b[0;32m~/anaconda3/envs/gene_ml/lib/python3.12/subprocess.py:466\u001b[0m, in \u001b[0;36mcheck_output\u001b[0;34m(timeout, *popenargs, **kwargs)\u001b[0m\n\u001b[1;32m    463\u001b[0m         empty \u001b[38;5;241m=\u001b[39m \u001b[38;5;124mb\u001b[39m\u001b[38;5;124m'\u001b[39m\u001b[38;5;124m'\u001b[39m\n\u001b[1;32m    464\u001b[0m     kwargs[\u001b[38;5;124m'\u001b[39m\u001b[38;5;124minput\u001b[39m\u001b[38;5;124m'\u001b[39m] \u001b[38;5;241m=\u001b[39m empty\n\u001b[0;32m--> 466\u001b[0m \u001b[38;5;28;01mreturn\u001b[39;00m \u001b[43mrun\u001b[49m\u001b[43m(\u001b[49m\u001b[38;5;241;43m*\u001b[39;49m\u001b[43mpopenargs\u001b[49m\u001b[43m,\u001b[49m\u001b[43m \u001b[49m\u001b[43mstdout\u001b[49m\u001b[38;5;241;43m=\u001b[39;49m\u001b[43mPIPE\u001b[49m\u001b[43m,\u001b[49m\u001b[43m \u001b[49m\u001b[43mtimeout\u001b[49m\u001b[38;5;241;43m=\u001b[39;49m\u001b[43mtimeout\u001b[49m\u001b[43m,\u001b[49m\u001b[43m \u001b[49m\u001b[43mcheck\u001b[49m\u001b[38;5;241;43m=\u001b[39;49m\u001b[38;5;28;43;01mTrue\u001b[39;49;00m\u001b[43m,\u001b[49m\n\u001b[1;32m    467\u001b[0m \u001b[43m           \u001b[49m\u001b[38;5;241;43m*\u001b[39;49m\u001b[38;5;241;43m*\u001b[39;49m\u001b[43mkwargs\u001b[49m\u001b[43m)\u001b[49m\u001b[38;5;241m.\u001b[39mstdout\n",
      "File \u001b[0;32m~/anaconda3/envs/gene_ml/lib/python3.12/subprocess.py:571\u001b[0m, in \u001b[0;36mrun\u001b[0;34m(input, capture_output, timeout, check, *popenargs, **kwargs)\u001b[0m\n\u001b[1;32m    569\u001b[0m     retcode \u001b[38;5;241m=\u001b[39m process\u001b[38;5;241m.\u001b[39mpoll()\n\u001b[1;32m    570\u001b[0m     \u001b[38;5;28;01mif\u001b[39;00m check \u001b[38;5;129;01mand\u001b[39;00m retcode:\n\u001b[0;32m--> 571\u001b[0m         \u001b[38;5;28;01mraise\u001b[39;00m CalledProcessError(retcode, process\u001b[38;5;241m.\u001b[39margs,\n\u001b[1;32m    572\u001b[0m                                  output\u001b[38;5;241m=\u001b[39mstdout, stderr\u001b[38;5;241m=\u001b[39mstderr)\n\u001b[1;32m    573\u001b[0m \u001b[38;5;28;01mreturn\u001b[39;00m CompletedProcess(process\u001b[38;5;241m.\u001b[39margs, retcode, stdout, stderr)\n",
      "\u001b[0;31mCalledProcessError\u001b[0m: Command 'ssh lumi 'cd /project/project_462000451/gene//auto_prob_ex-code_debug_tester_batch-0; sbatch submit.cmd; exit'' returned non-zero exit status 1."
     ]
    }
   ],
   "source": [
    "datagen.executor.start_runs()"
   ]
  },
  {
   "cell_type": "code",
   "execution_count": null,
   "metadata": {},
   "outputs": [
    {
     "name": "stdout",
     "output_type": "stream",
     "text": [
      "stdout ['scanfiles0000\\n']\n",
      "SCAN NUMBERS ['000\\n']\n",
      "EXECUTOR CHECK COMPLETE []\n"
     ]
    },
    {
     "data": {
      "text/plain": [
       "[]"
      ]
     },
     "execution_count": 7,
     "metadata": {},
     "output_type": "execute_result"
    }
   ],
   "source": [
    "datagen.executor.check_complete()"
   ]
  },
  {
   "cell_type": "code",
   "execution_count": 24,
   "metadata": {},
   "outputs": [
    {
     "name": "stdout",
     "output_type": "stream",
     "text": [
      "['hello\\n', 'I \\n', 'Am \\n', 'Here\\n']\n"
     ]
    }
   ],
   "source": [
    "file = datagen.parser.open_file('/project/project_462000451/gene/auto_prob_ex-dgt4_batch-0/parameters')\n",
    "print(file.readlines())\n",
    "file.close()"
   ]
  },
  {
   "cell_type": "code",
   "execution_count": null,
   "metadata": {},
   "outputs": [],
   "source": []
  },
  {
   "cell_type": "code",
   "execution_count": 8,
   "metadata": {},
   "outputs": [
    {
     "name": "stdout",
     "output_type": "stream",
     "text": [
      "====================================================================================================\n",
      "EXECUTING BATCHES\n",
      "\n",
      "CODE RUN\n",
      "THE ESTIMATED WALLTIME FOR RUN ex-dgt4_batch-0 is 00-00:05:25, dd-hh-mm-ss TO RUN 5 SAMPLES\n",
      "ALTERING THE BASE PARAMETERS FILE TO SET THE TIMELIM AND SIMTIMELIM TO THE WALLTIME\n",
      "Writing to /home/djdaniel/DEEPlasma/parameters_base_dp\n",
      "Writing to /home/djdaniel/DEEPlasma/parameters_base_dp\n",
      "PARSING SAMPLES TO INPUT FILE at temp/parameters_ex-dgt4_batch-0\n",
      "Writing to /home/djdaniel/DEEPlasma/temp/\n",
      "GENERATING SBATCH FROM PARAMETERS FILE at temp/sbatch_ex-dgt4_batch-0\n",
      "WALL CLOCK LIMIT FOR BATCH ex-dgt4_batch-0:   00-00:05:25\n",
      "CREATING A NEW PROBLEM DIR WITH SSH\n",
      "MOVING PARAMETERS AND SBATCH FILES TO CORRECT LOCATION IN REMOTE; SUBMITTING GENE SBATCH\n",
      "set lib path in ./tools/scanscript\n",
      "set lib path in ./tools/scanscript\n",
      "created prob15\n",
      "copied parameters\n",
      "created link to the GENE executable in the bin directory\n",
      "CREATING auto_prob_ex-dgt4_batch-0 in /project/project_462000451/gene/\n",
      "SUBMITTED SBATCH ID 8013001\n"
     ]
    }
   ],
   "source": [
    "datagen.executor.start_runs()"
   ]
  },
  {
   "cell_type": "code",
   "execution_count": 14,
   "metadata": {},
   "outputs": [
    {
     "name": "stdout",
     "output_type": "stream",
     "text": [
      "BATCH IDS ['8013001']\n",
      "\n",
      "CHECKING IF JOBS FINISHED: ['8013001']\n",
      "NONE OF THE INPUTED SBATCH IDs ARE RUNNING\n",
      "\n",
      "\n",
      "EXECUTOR CHECK FINISHED True\n",
      "True\n"
     ]
    }
   ],
   "source": [
    "finished = datagen.executor.check_finished()\n",
    "print(finished)"
   ]
  },
  {
   "cell_type": "code",
   "execution_count": 18,
   "metadata": {},
   "outputs": [
    {
     "name": "stdout",
     "output_type": "stream",
     "text": [
      "Initialising dataset\n",
      "SSH PATH lumi1:/scratch/project_462000451/gene_out/gene_auto/data_gen_tutorial4\n",
      "SCAN LOG PATH /home/djdaniel/DEEPlasma/scanlogs/data_gen_tutorial4\n",
      "\n",
      "LOADING FROM SCANLOG DIR: /home/djdaniel/DEEPlasma/scanlogs/data_gen_tutorial4\n",
      "LOG PATHS ['geneerr_batch-0_scanfiles-0.log' 'scan_batch-0_scanfiles-0.log']\n",
      "\n",
      "LOADING SCANLOG AND TIME INTO PANDAS DATAFRAME /home/djdaniel/DEEPlasma/scanlogs/data_gen_tutorial4/scan_batch-0_scanfiles-0.log : /home/djdaniel/DEEPlasma/scanlogs/data_gen_tutorial4/geneerr_batch-0_scanfiles-0.log\n",
      "\n",
      "5 SAMPLES RAN OUT OF 5 BEFORE MAX WALLTIME:\n",
      "NUMBER OF SAMPLES AFTER REMOVING NaN's: 5\n",
      "NaN PERCENTAGE =  0.0\n",
      "SETTING VARIABLES\n",
      "\n",
      "RANDOMLY SPLITTING DATA INTO TEST AND TRAINING SETS: 50% test, 50 training.\n"
     ]
    }
   ],
   "source": [
    "from GENE_ML.gene_ml.dataset.ScanData import ScanData\n",
    "from config import config\n",
    "\n",
    "data_set = ScanData('data_gen_tutorial4', parser=datagen.parser, host=config.host, remote_path=datagen.remote_save_dir,  test_percentage=50)\n"
   ]
  },
  {
   "cell_type": "code",
   "execution_count": 19,
   "metadata": {},
   "outputs": [
    {
     "data": {
      "text/html": [
       "<div>\n",
       "<style scoped>\n",
       "    .dataframe tbody tr th:only-of-type {\n",
       "        vertical-align: middle;\n",
       "    }\n",
       "\n",
       "    .dataframe tbody tr th {\n",
       "        vertical-align: top;\n",
       "    }\n",
       "\n",
       "    .dataframe thead th {\n",
       "        text-align: right;\n",
       "    }\n",
       "</style>\n",
       "<table border=\"1\" class=\"dataframe\">\n",
       "  <thead>\n",
       "    <tr style=\"text-align: right;\">\n",
       "      <th></th>\n",
       "      <th>run_time</th>\n",
       "      <th>omt2</th>\n",
       "      <th>omt1</th>\n",
       "      <th>omn1</th>\n",
       "      <th>growthrate</th>\n",
       "      <th>frequency</th>\n",
       "    </tr>\n",
       "  </thead>\n",
       "  <tbody>\n",
       "    <tr>\n",
       "      <th>0</th>\n",
       "      <td>28.576</td>\n",
       "      <td>3.381341</td>\n",
       "      <td>4.499231</td>\n",
       "      <td>1.386877</td>\n",
       "      <td>8.5470</td>\n",
       "      <td>-25.4860</td>\n",
       "    </tr>\n",
       "    <tr>\n",
       "      <th>1</th>\n",
       "      <td>31.241</td>\n",
       "      <td>3.116692</td>\n",
       "      <td>4.539037</td>\n",
       "      <td>2.544643</td>\n",
       "      <td>5.6990</td>\n",
       "      <td>-9.4170</td>\n",
       "    </tr>\n",
       "    <tr>\n",
       "      <th>2</th>\n",
       "      <td>107.051</td>\n",
       "      <td>2.196530</td>\n",
       "      <td>6.083308</td>\n",
       "      <td>2.124313</td>\n",
       "      <td>1.2290</td>\n",
       "      <td>-7.2660</td>\n",
       "    </tr>\n",
       "    <tr>\n",
       "      <th>3</th>\n",
       "      <td>44.102</td>\n",
       "      <td>2.882231</td>\n",
       "      <td>5.836209</td>\n",
       "      <td>0.328710</td>\n",
       "      <td>3.6090</td>\n",
       "      <td>-36.6460</td>\n",
       "    </tr>\n",
       "    <tr>\n",
       "      <th>4</th>\n",
       "      <td>24.030</td>\n",
       "      <td>3.319788</td>\n",
       "      <td>5.275577</td>\n",
       "      <td>1.054928</td>\n",
       "      <td>7.7850</td>\n",
       "      <td>-29.4530</td>\n",
       "    </tr>\n",
       "  </tbody>\n",
       "</table>\n",
       "</div>"
      ],
      "text/plain": [
       "  run_time      omt2      omt1      omn1 growthrate frequency\n",
       "0   28.576  3.381341  4.499231  1.386877     8.5470  -25.4860\n",
       "1   31.241  3.116692  4.539037  2.544643     5.6990   -9.4170\n",
       "2  107.051  2.196530  6.083308  2.124313     1.2290   -7.2660\n",
       "3   44.102  2.882231  5.836209  0.328710     3.6090  -36.6460\n",
       "4   24.030  3.319788  5.275577  1.054928     7.7850  -29.4530"
      ]
     },
     "execution_count": 19,
     "metadata": {},
     "output_type": "execute_result"
    }
   ],
   "source": [
    "data_set.df"
   ]
  },
  {
   "cell_type": "code",
   "execution_count": 20,
   "metadata": {},
   "outputs": [
    {
     "data": {
      "text/plain": [
       "array([[3.381341 , 4.499231 , 1.386877 ],\n",
       "       [3.116692 , 4.539037 , 2.544643 ],\n",
       "       [2.19653  , 6.083308 , 2.124313 ],\n",
       "       [2.882231 , 5.836209 , 0.3287098],\n",
       "       [3.319788 , 5.275577 , 1.054928 ]])"
      ]
     },
     "execution_count": 20,
     "metadata": {},
     "output_type": "execute_result"
    }
   ],
   "source": [
    "data_set.x"
   ]
  },
  {
   "cell_type": "code",
   "execution_count": 25,
   "metadata": {},
   "outputs": [
    {
     "data": {
      "text/plain": [
       "(array([[3.319788, 5.275577, 1.054928],\n",
       "        [3.381341, 4.499231, 1.386877]]),\n",
       " array([7.785, 8.547]))"
      ]
     },
     "execution_count": 25,
     "metadata": {},
     "output_type": "execute_result"
    }
   ],
   "source": [
    "data_set.x_train, data_set.growthrate_train"
   ]
  },
  {
   "cell_type": "code",
   "execution_count": 24,
   "metadata": {},
   "outputs": [
    {
     "data": {
      "text/plain": [
       "(array([[2.19653  , 6.083308 , 2.124313 ],\n",
       "        [3.116692 , 4.539037 , 2.544643 ],\n",
       "        [2.882231 , 5.836209 , 0.3287098]]),\n",
       " array([1.229, 5.699, 3.609]))"
      ]
     },
     "execution_count": 24,
     "metadata": {},
     "output_type": "execute_result"
    }
   ],
   "source": [
    "data_set.x_test, data_set.growthrate_test"
   ]
  },
  {
   "cell_type": "markdown",
   "metadata": {},
   "source": [
    "# Loading data already saved in scanlogs\n"
   ]
  },
  {
   "cell_type": "code",
   "execution_count": 27,
   "metadata": {},
   "outputs": [
    {
     "name": "stdout",
     "output_type": "stream",
     "text": [
      "Initialising dataset\n",
      "SSH PATH None:None\n",
      "SCAN LOG PATH /home/djdaniel/DEEPlasma/scanlogs/data_gen_tutorial4\n",
      "\n",
      "LOADING FROM SCANLOG DIR: /home/djdaniel/DEEPlasma/scanlogs/data_gen_tutorial4\n",
      "LOG PATHS ['geneerr_batch-0_scanfiles-0.log' 'scan_batch-0_scanfiles-0.log']\n",
      "\n",
      "LOADING SCANLOG AND TIME INTO PANDAS DATAFRAME /home/djdaniel/DEEPlasma/scanlogs/data_gen_tutorial4/scan_batch-0_scanfiles-0.log : /home/djdaniel/DEEPlasma/scanlogs/data_gen_tutorial4/geneerr_batch-0_scanfiles-0.log\n",
      "\n",
      "5 SAMPLES RAN OUT OF 5 BEFORE MAX WALLTIME:\n",
      "NUMBER OF SAMPLES AFTER REMOVING NaN's: 5\n",
      "NaN PERCENTAGE =  0.0\n",
      "SETTING VARIABLES\n",
      "\n",
      "RANDOMLY SPLITTING DATA INTO TEST AND TRAINING SETS: 50% test, 50 training.\n"
     ]
    }
   ],
   "source": [
    "from GENE_ML.gene_ml.parsers.GENEparser import GENE_scan_parser\n",
    "from config import config\n",
    "\n",
    "parser = GENE_scan_parser(config.save_dir, config.base_params_path)\n",
    "\n",
    "data_set = ScanData('data_gen_tutorial4', parser=parser, host=None, remote_path=None,  test_percentage=50)\n"
   ]
  },
  {
   "cell_type": "markdown",
   "metadata": {},
   "source": [
    "# Combine datasets"
   ]
  },
  {
   "cell_type": "code",
   "execution_count": 29,
   "metadata": {},
   "outputs": [
    {
     "name": "stdout",
     "output_type": "stream",
     "text": [
      "Initialising dataset\n",
      "SSH PATH None:None\n",
      "SCAN LOG PATH /home/djdaniel/DEEPlasma/scanlogs/data_gen_tutorial4\n",
      "\n",
      "LOADING FROM SCANLOG DIR: /home/djdaniel/DEEPlasma/scanlogs/data_gen_tutorial4\n",
      "LOG PATHS ['geneerr_batch-0_scanfiles-0.log' 'scan_batch-0_scanfiles-0.log']\n",
      "\n",
      "LOADING SCANLOG AND TIME INTO PANDAS DATAFRAME /home/djdaniel/DEEPlasma/scanlogs/data_gen_tutorial4/scan_batch-0_scanfiles-0.log : /home/djdaniel/DEEPlasma/scanlogs/data_gen_tutorial4/geneerr_batch-0_scanfiles-0.log\n",
      "\n",
      "5 SAMPLES RAN OUT OF 5 BEFORE MAX WALLTIME:\n",
      "NUMBER OF SAMPLES AFTER REMOVING NaN's: 5\n",
      "NaN PERCENTAGE =  0.0\n",
      "SETTING VARIABLES\n",
      "\n",
      "RANDOMLY SPLITTING DATA INTO TEST AND TRAINING SETS: 50% test, 50 training.\n",
      "Initialising dataset\n",
      "SSH PATH None:None\n",
      "SCAN LOG PATH /home/djdaniel/DEEPlasma/scanlogs/data_gen_tutorial4\n",
      "\n",
      "LOADING FROM SCANLOG DIR: /home/djdaniel/DEEPlasma/scanlogs/data_gen_tutorial4\n",
      "LOG PATHS ['geneerr_batch-0_scanfiles-0.log' 'scan_batch-0_scanfiles-0.log']\n",
      "\n",
      "LOADING SCANLOG AND TIME INTO PANDAS DATAFRAME /home/djdaniel/DEEPlasma/scanlogs/data_gen_tutorial4/scan_batch-0_scanfiles-0.log : /home/djdaniel/DEEPlasma/scanlogs/data_gen_tutorial4/geneerr_batch-0_scanfiles-0.log\n",
      "\n",
      "5 SAMPLES RAN OUT OF 5 BEFORE MAX WALLTIME:\n",
      "NUMBER OF SAMPLES AFTER REMOVING NaN's: 5\n",
      "NaN PERCENTAGE =  0.0\n",
      "SETTING VARIABLES\n",
      "\n",
      "RANDOMLY SPLITTING DATA INTO TEST AND TRAINING SETS: 50% test, 50 training.\n",
      "\n",
      "RANDOMLY SPLITTING DATA INTO TEST AND TRAINING SETS: 50% test, 50 training.\n"
     ]
    },
    {
     "data": {
      "text/plain": [
       "(  run_time      omt2      omt1      omn1 growthrate frequency\n",
       " 0   28.576  3.381341  4.499231  1.386877     8.5470  -25.4860\n",
       " 1   31.241  3.116692  4.539037  2.544643     5.6990   -9.4170\n",
       " 2  107.051  2.196530  6.083308  2.124313     1.2290   -7.2660\n",
       " 3   44.102  2.882231  5.836209  0.328710     3.6090  -36.6460\n",
       " 4   24.030  3.319788  5.275577  1.054928     7.7850  -29.4530\n",
       " 0   28.576  3.381341  4.499231  1.386877     8.5470  -25.4860\n",
       " 1   31.241  3.116692  4.539037  2.544643     5.6990   -9.4170\n",
       " 2  107.051  2.196530  6.083308  2.124313     1.2290   -7.2660\n",
       " 3   44.102  2.882231  5.836209  0.328710     3.6090  -36.6460\n",
       " 4   24.030  3.319788  5.275577  1.054928     7.7850  -29.4530,\n",
       " array([[2.882231 , 5.836209 , 0.3287098],\n",
       "        [3.381341 , 4.499231 , 1.386877 ],\n",
       "        [3.319788 , 5.275577 , 1.054928 ],\n",
       "        [3.116692 , 4.539037 , 2.544643 ],\n",
       "        [2.19653  , 6.083308 , 2.124313 ]]))"
      ]
     },
     "execution_count": 29,
     "metadata": {},
     "output_type": "execute_result"
    }
   ],
   "source": [
    "data_set_1 = ScanData('data_gen_tutorial4', parser=parser, host=None, remote_path=None,  test_percentage=50)\n",
    "data_set_2 = ScanData('data_gen_tutorial4', parser=parser, host=None, remote_path=None,  test_percentage=50)\n",
    "\n",
    "data_set_3 = data_set_1.concat([data_set_2])\n",
    "\n",
    "data_set_3.df"
   ]
  },
  {
   "cell_type": "code",
   "execution_count": null,
   "metadata": {},
   "outputs": [],
   "source": []
  }
 ],
 "metadata": {
  "kernelspec": {
   "display_name": "gene_ml",
   "language": "python",
   "name": "python3"
  },
  "language_info": {
   "codemirror_mode": {
    "name": "ipython",
    "version": 3
   },
   "file_extension": ".py",
   "mimetype": "text/x-python",
   "name": "python",
   "nbconvert_exporter": "python",
   "pygments_lexer": "ipython3",
   "version": "3.12.3"
  }
 },
 "nbformat": 4,
 "nbformat_minor": 2
}
