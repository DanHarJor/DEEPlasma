{
 "cells": [
  {
   "cell_type": "code",
   "execution_count": 1,
   "metadata": {},
   "outputs": [],
   "source": [
    "%load_ext autoreload\n",
    "%autoreload 2"
   ]
  },
  {
   "cell_type": "code",
   "execution_count": 2,
   "metadata": {},
   "outputs": [
    {
     "name": "stderr",
     "output_type": "stream",
     "text": [
      "/home/djdaniel/anaconda3/envs/gene_ml/lib/python3.12/site-packages/paramiko/pkey.py:82: CryptographyDeprecationWarning: TripleDES has been moved to cryptography.hazmat.decrepit.ciphers.algorithms.TripleDES and will be removed from this module in 48.0.0.\n",
      "  \"cipher\": algorithms.TripleDES,\n",
      "/home/djdaniel/anaconda3/envs/gene_ml/lib/python3.12/site-packages/paramiko/transport.py:219: CryptographyDeprecationWarning: Blowfish has been moved to cryptography.hazmat.decrepit.ciphers.algorithms.Blowfish and will be removed from this module in 45.0.0.\n",
      "  \"class\": algorithms.Blowfish,\n",
      "/home/djdaniel/anaconda3/envs/gene_ml/lib/python3.12/site-packages/paramiko/transport.py:243: CryptographyDeprecationWarning: TripleDES has been moved to cryptography.hazmat.decrepit.ciphers.algorithms.TripleDES and will be removed from this module in 48.0.0.\n",
      "  \"class\": algorithms.TripleDES,\n"
     ]
    }
   ],
   "source": [
    "import sys\n",
    "import os\n",
    "pathap = os.path.join('GENE_ML','gene_ml','static_sparse_grid_approximations')\n",
    "sys.path.append(pathap)\n",
    "from GENE_ML.gene_ml.samplers.uniform import Uniform\n",
    "from GENE_ML.gene_ml.datagen.datagen import DataGen\n",
    "\n",
    "# check config.py\n",
    "from config_debug import config\n",
    "\n",
    "parameters = ['_grp_species_0-omt','_grp_species_1-omt','species-omn']\n",
    "bounds = [(4,6.7), (2.1,3.5), (0.16,2.9)] #if bounds is a float rather than tuple then the sampler will make that the only value\n",
    "\n",
    "num_samples = 8\n",
    "\n",
    "sampler_uniform = Uniform(parameters=parameters, num_samples=num_samples ,bounds=bounds)\n",
    "\n",
    "# Folder name for the data to be saved in within the self.remote_save_base_dir of config\n",
    "remote_save_name = \"code_debug_tester\"\n",
    "\n",
    "# This is used to identify the problem folder in gene\n",
    "ex_id = 'code_debug_tester'\n",
    "\n",
    "single_run_timelim = 5\n",
    "single_run_simtimelim = 1e-10 #10e-2#put this in seconds and it will be converted to the correct units for GENE\n",
    "\n",
    "datagen = DataGen(config, sampler_uniform, \n",
    "                  ex_id=ex_id, remote_save_name=remote_save_name, \n",
    "                  single_run_timelim=single_run_timelim, \n",
    "                  single_run_simtimelim=single_run_simtimelim, num_workers=2)"
   ]
  },
  {
   "cell_type": "code",
   "execution_count": 3,
   "metadata": {},
   "outputs": [
    {
     "name": "stdout",
     "output_type": "stream",
     "text": [
      "\n",
      "EXECUTOR, PRINT_CHECK_PARAMETERS\n",
      " ----------------------------------------------------------------------------------------------------\n",
      "PRE RUN CHECK\n",
      "\n",
      "\n",
      "SINGLE RUN TIMELIM 5 N SAMPLES 4\n",
      "THE ESTIMATED WALLTIME FOR RUN ex-code_debug_tester_batch-0 is 00-00:00:22, dd-hh-mm-ss TO RUN 4 SAMPLES\n",
      "CREATING PROBLEM DIRECTORY\n",
      "RESULT FROM COMMAND: (<paramiko.ChannelFile from <paramiko.Channel 1 (open) window=2097152 -> <paramiko.Transport at 0x9ca76870 (cipher aes128-ctr, 128 bits) (active; 2 open channel(s))>>>, <paramiko.ChannelFile from <paramiko.Channel 1 (open) window=2097152 -> <paramiko.Transport at 0x9ca76870 (cipher aes128-ctr, 128 bits) (active; 2 open channel(s))>>>, <paramiko.ChannelFile from <paramiko.Channel 1 (open) window=2097152 -> <paramiko.Transport at 0x9ca76870 (cipher aes128-ctr, 128 bits) (active; 2 open channel(s))>>>)\n",
      "PLACING BASE PARAMETERS TO REMOTE PROBLEM DIRECTORY\n",
      "ALTERING THE PARAMETERS FILE IN THE REMOTE PROBLEM DIRECTORY\n",
      "\n",
      "\n",
      "CODE RUN: SETTING SIMULATION TIME LIMMIT\n",
      "\n",
      "\n",
      "!!WARNING!!, tref is being computed by gene but we do not know what it is, so using a default value of 0.501585859244667\n",
      "\n",
      "\n",
      "PARSER\n",
      ", SET_SIMTIMELIM, SIMTIMLIM_GENE: 6.584296553193289e-11\n",
      "TREF 0.501585859244667 MREF 2.0 CREF 0.5007923018800644 LREF 0.760585884664\n",
      "DEBUG <class 'str'> b\"#!/bin/bash -l\\n## LUMI-C (CPU partition) submit script template\\n## Submit via: sbatch submit.cmd (parameters below can be overwritten by command line options)\\n#SBATCH -t 00:30:00                # wallclock limit\\n#SBATCH -N 1                       # total number of nodes, 2 CPUs with 64 rank each\\n#SBATCH --ntasks=1      # 64 per CPU (i.e. 128 per node). Additional 2 hyperthreads disabled\\n#SBATCH --mem=100                    # Allocate all the memory on each node\\n#SBATCH -p small                # all options see: scontrol show partition\\n#SBATCH -J auto_gene                    # Job name\\n#SBATCH -o ./%x.%j.out\\n#SBATCH -e ./%x.%j.err\\n##uncomment to set specific account to charge or define SBATCH_ACCOUNT/SALLOC_ACCOUNT globally in ~/.bashrc\\n#SBATCH -A project_462000451\\n\\nexport MEMORY_PER_CORE=100\\n\\n## set openmp threads\\nexport OMP_NUM_THREADS=1\\n\\n#do not use file locking for hdf5\\nexport HDF5_USE_FILE_LOCKING=FALSE\\n\\nset -x\\n# run GENE\\n# srun -l -K -n $SLURM_NTASKS ./gene_lumi_csc\\n\\n# run scanscript\\n./scanscript --np $SLURM_NTASKS --ppn $SLURM_NTASKS_PER_NODE --mps 4 --syscall='srun -l -K -n $SLURM_NTASKS ./gene_lumi_csc'\\n\\nset +x\\n\"\n",
      "PARSING SAMPLES TO INPUT FILE at: /project/project_462000451/gene/auto_prob_ex-code_debug_tester_batch-0/parameters\n",
      "Writing to /project/project_462000451/gene/auto_prob_ex-code_debug_tester_batch-0/parameters\n",
      "&parallelization\n",
      "    n_procs_s = 1\n",
      "    n_procs_v = 1\n",
      "    n_procs_w = 1\n",
      "    n_procs_x = 1\n",
      "    n_procs_y = 1\n",
      "    n_procs_z = 1\n",
      "    n_procs_sim = 1\n",
      "    n_parallel_sims = 1\n",
      "/\n",
      "\n",
      "&box\n",
      "    n_spec = 2\n",
      "    nx0 = 1\n",
      "    nky0 = 1\n",
      "    nz0 = 1\n",
      "    nv0 = 1\n",
      "    nw0 = 1\n",
      "    lv = 2\n",
      "    lw = 2\n",
      "    x0 = 2\n",
      "    kymin = 48.0\n",
      "    kx_center = 0.0\n",
      "/\n",
      "\n",
      "&in_out\n",
      "    diagdir = '/scratch/project_462000451/gene_out/gene_auto/code_debug_tester'\n",
      "    read_checkpoint = .false.\n",
      "    write_checkpoint = .true.\n",
      "    istep_nrg = 1e+40\n",
      "    istep_omega = 1e+40\n",
      "    istep_field = 1e+40\n",
      "    istep_energy = 1e+40\n",
      "    istep_mom = 1e+40\n",
      "    istep_vsp = 1e+40\n",
      "    istep_schpt = 1e+40\n",
      "/\n",
      "\n",
      "&general\n",
      "    bpar = .true.\n",
      "    nonlinear = .false.\n",
      "    x_local = .true.\n",
      "    arakawa_zv = .false.\n",
      "    comp_type = 'IV'\n",
      "    calc_dt = .true.\n",
      "    ntimesteps = 5\n",
      "    timelim = 1\n",
      "    simtimelim = 6.584296553193289e-11\n",
      "    hyp_z = -2\n",
      "    hyp_v = 0.2\n",
      "    init_cond = 'alm'\n",
      "    beta = 0.0022366753\n",
      "    debye2 = 0.00023915662\n",
      "    tau = 1.7\n",
      "    collision_op = 'landau'\n",
      "    coll = 0.0042788004\n",
      "    coll_cons_model = 'xu_rosenbluth'\n",
      "/\n",
      "\n",
      "&geometry\n",
      "    magn_geometry = 'miller'\n",
      "    trpeps = 0.25643\n",
      "    q0 = 2.2851\n",
      "    shat = 2.2142\n",
      "    amhd = -1\n",
      "    drr = -0.14686\n",
      "    drz = -0.076232\n",
      "    kappa = 1.349\n",
      "    s_kappa = 0.23129\n",
      "    delta = 0.055595\n",
      "    s_delta = 0.14461\n",
      "    zeta = -0.012412\n",
      "    s_zeta = -0.063568\n",
      "    minor_r = 1\n",
      "    major_r = 3.1481\n",
      "/\n",
      "\n",
      "&species\n",
      "    name = 'i'\n",
      "    omn = 15.265123      !scanlist: 2.48190018720759, 1.7504442401090756, 1.4472452865824725, 0.35187644296431486\n",
      "    omt = 28.287016       !scanwith: 0, 4.499231246938652, 4.539036873614143, 6.083308151466447, 5.8362093542606495\n",
      "    mass = 1.0\n",
      "    temp = 1.0\n",
      "    dens = 1.0\n",
      "    charge = 1\n",
      "/\n",
      "\n",
      "&species\n",
      "    name = 'e'\n",
      "    omn = 15.265123       !scanwith: 0, 2.48190018720759, 1.7504442401090756, 1.4472452865824725, 0.35187644296431486\n",
      "    omt = 28.287016       !scanwith: 0, 2.8822311886479164, 3.319788295386458, 2.7268713676005207, 3.3184305822396203\n",
      "    mass = 0.0002724\n",
      "    temp = 1.0\n",
      "    dens = 1.0\n",
      "    charge = -1\n",
      "/\n",
      "\n",
      "&units\n",
      "    lref = 0.760585884664\n",
      "    mref = 2.0\n",
      "    tref = -1\n",
      "    nref = -1\n",
      "    bref = -1\n",
      "/\n"
     ]
    }
   ],
   "source": [
    "datagen.executor.pre_run_check()"
   ]
  },
  {
   "cell_type": "code",
   "execution_count": 19,
   "metadata": {},
   "outputs": [
    {
     "name": "stdout",
     "output_type": "stream",
     "text": [
      "====================================================================================================\n",
      "EXECUTING BATCHES\n",
      "\n",
      "CODE RUN\n",
      "\n",
      "\n",
      "SINGLE RUN TIMELIM 5 N SAMPLES 4\n",
      "THE ESTIMATED WALLTIME FOR RUN ex-code_debug_tester_batch-0 is 00-00:05:20, dd-hh-mm-ss TO RUN 4 SAMPLES\n",
      "ALTERING THE BASE PARAMETERS FILE TO SET THE TIMELIM AND SIMTIMELIM TO THE WALLTIME\n",
      "Writing to /home/djdaniel/DEEPlasma/parameters_base_dependancies_fixed_dp\n",
      "\n",
      "\n",
      "CODE RUN: SETTING SIMULATION TIME LIMMIT\n",
      "\n",
      "\n",
      "!!WARNING!!, tref is being computed by gene but we do not know what it is, so using a default value of 0.501585859244667\n",
      "\n",
      "\n",
      "PARSER\n",
      ", SET_SIMTIMELIM, SIMTIMLIM_GENE: 6.584296553193289e-11\n",
      "TREF 0.501585859244667 MREF 2.0 CREF 0.5007923018800644 LREF 0.760585884664\n",
      "Writing to /home/djdaniel/DEEPlasma/parameters_base_dependancies_fixed_dp\n",
      "PARSING SAMPLES TO INPUT FILE at temp/parameters_ex-code_debug_tester_batch-0\n",
      "Writing to /home/djdaniel/DEEPlasma/temp/\n",
      "GENERATING SBATCH FROM PARAMETERS FILE at temp/sbatch_ex-code_debug_tester_batch-0\n",
      "WALL CLOCK LIMIT FOR BATCH ex-code_debug_tester_batch-0:   00-00:05:20\n",
      "CREATING A NEW PROBLEM DIR WITH SSH\n",
      "MOVING PARAMETERS AND SBATCH FILES TO CORRECT LOCATION IN REMOTE; SUBMITTING GENE SBATCH\n",
      "set lib path in ./tools/scanscript\n",
      "set lib path in ./tools/scanscript\n",
      "created prob01\n",
      "copied parameters\n",
      "created link to the GENE executable in the bin directory\n"
     ]
    },
    {
     "name": "stderr",
     "output_type": "stream",
     "text": [
      "mv: cannot move 'prob01' to 'auto_prob_ex-code_debug_tester_batch-0/prob01': Directory not empty\n"
     ]
    },
    {
     "name": "stdout",
     "output_type": "stream",
     "text": [
      "CREATING auto_prob_ex-code_debug_tester_batch-0 in /project/project_462000451/gene/\n",
      "SUBMITTED SBATCH ID 8076221\n",
      "\n",
      "CODE RUN\n",
      "\n",
      "\n",
      "SINGLE RUN TIMELIM 5 N SAMPLES 4\n",
      "THE ESTIMATED WALLTIME FOR RUN ex-code_debug_tester_batch-1 is 00-00:05:20, dd-hh-mm-ss TO RUN 4 SAMPLES\n",
      "ALTERING THE BASE PARAMETERS FILE TO SET THE TIMELIM AND SIMTIMELIM TO THE WALLTIME\n",
      "Writing to /home/djdaniel/DEEPlasma/parameters_base_dependancies_fixed_dp\n",
      "\n",
      "\n",
      "CODE RUN: SETTING SIMULATION TIME LIMMIT\n",
      "\n",
      "\n",
      "!!WARNING!!, tref is being computed by gene but we do not know what it is, so using a default value of 0.501585859244667\n",
      "\n",
      "\n",
      "PARSER\n",
      ", SET_SIMTIMELIM, SIMTIMLIM_GENE: 6.584296553193289e-11\n",
      "TREF 0.501585859244667 MREF 2.0 CREF 0.5007923018800644 LREF 0.760585884664\n",
      "Writing to /home/djdaniel/DEEPlasma/parameters_base_dependancies_fixed_dp\n",
      "PARSING SAMPLES TO INPUT FILE at temp/parameters_ex-code_debug_tester_batch-1\n",
      "Writing to /home/djdaniel/DEEPlasma/temp/\n",
      "GENERATING SBATCH FROM PARAMETERS FILE at temp/sbatch_ex-code_debug_tester_batch-1\n",
      "WALL CLOCK LIMIT FOR BATCH ex-code_debug_tester_batch-1:   00-00:05:20\n",
      "CREATING A NEW PROBLEM DIR WITH SSH\n",
      "MOVING PARAMETERS AND SBATCH FILES TO CORRECT LOCATION IN REMOTE; SUBMITTING GENE SBATCH\n",
      "set lib path in ./tools/scanscript\n",
      "set lib path in ./tools/scanscript\n",
      "created prob09\n",
      "copied parameters\n",
      "created link to the GENE executable in the bin directory\n",
      "CREATING auto_prob_ex-code_debug_tester_batch-1 in /project/project_462000451/gene/\n",
      "SUBMITTED SBATCH ID 8076222\n"
     ]
    }
   ],
   "source": [
    "datagen.executor.start_runs()"
   ]
  },
  {
   "cell_type": "code",
   "execution_count": 23,
   "metadata": {},
   "outputs": [
    {
     "name": "stdout",
     "output_type": "stream",
     "text": [
      "BATCH IDS ['8076221', '8076222']\n",
      "\n",
      "CHECKING IF JOBS FINISHED: ['8076221', '8076222']\n",
      "NONE OF THE INPUTED SBATCH IDs ARE RUNNING\n",
      "\n",
      "\n",
      "EXECUTOR CHECK FINISHED True\n"
     ]
    },
    {
     "data": {
      "text/plain": [
       "True"
      ]
     },
     "execution_count": 23,
     "metadata": {},
     "output_type": "execute_result"
    }
   ],
   "source": [
    "datagen.executor.check_finished()"
   ]
  },
  {
   "cell_type": "code",
   "execution_count": null,
   "metadata": {},
   "outputs": [],
   "source": []
  },
  {
   "cell_type": "code",
   "execution_count": 25,
   "metadata": {},
   "outputs": [
    {
     "name": "stdout",
     "output_type": "stream",
     "text": [
      "Initialising dataset\n",
      "SSH PATH lumi:/scratch/project_462000451/gene_out/gene_auto/code_debug_tester\n",
      "SCAN LOG PATH /home/djdaniel/DEEPlasma/scanlogs/code_debug_tester\n",
      "MAKING SCANLOG DIR\n",
      "RETRIEVING REMOTE SCANLOG FILES\n",
      "\n",
      "RETRIEVING SCANLOG/S VIA scp FROM REMOTE\n",
      "SCANLOG PATH: lumi:/scratch/project_462000451/gene_out/gene_auto/code_debug_tester\n",
      "RETRIVING FROM REMOTE DIR\n",
      "[0]\n"
     ]
    },
    {
     "name": "stderr",
     "output_type": "stream",
     "text": [
      "scp: /scratch/project_462000451/gene_out/gene_auto/code_debug_tester/*batch*0/scanfiles*1/scan.log: No such file or directory\n",
      "scp: /scratch/project_462000451/gene_out/gene_auto/code_debug_tester/*batch*0/scanfiles*1/geneerr.log: No such file or directory\n"
     ]
    },
    {
     "name": "stdout",
     "output_type": "stream",
     "text": [
      "[0, 256]\n"
     ]
    },
    {
     "name": "stderr",
     "output_type": "stream",
     "text": [
      "scp: /scratch/project_462000451/gene_out/gene_auto/code_debug_tester/*batch*0/scanfiles*2/scan.log: No such file or directory\n",
      "scp: /scratch/project_462000451/gene_out/gene_auto/code_debug_tester/*batch*0/scanfiles*2/geneerr.log: No such file or directory\n"
     ]
    },
    {
     "name": "stdout",
     "output_type": "stream",
     "text": [
      "[0, 256, 256]\n"
     ]
    },
    {
     "name": "stderr",
     "output_type": "stream",
     "text": [
      "scp: /scratch/project_462000451/gene_out/gene_auto/code_debug_tester/*batch*0/scanfiles*3/scan.log: No such file or directory\n",
      "scp: /scratch/project_462000451/gene_out/gene_auto/code_debug_tester/*batch*0/scanfiles*3/geneerr.log: No such file or directory\n"
     ]
    },
    {
     "name": "stdout",
     "output_type": "stream",
     "text": [
      "[0, 256, 256, 256]\n",
      "[0, 256, 256, 256, 0]\n"
     ]
    },
    {
     "name": "stderr",
     "output_type": "stream",
     "text": [
      "scp: /scratch/project_462000451/gene_out/gene_auto/code_debug_tester/*batch*1/scanfiles*1/scan.log: No such file or directory\n",
      "scp: /scratch/project_462000451/gene_out/gene_auto/code_debug_tester/*batch*1/scanfiles*1/geneerr.log: No such file or directory\n"
     ]
    },
    {
     "name": "stdout",
     "output_type": "stream",
     "text": [
      "[0, 256, 256, 256, 0, 256]\n"
     ]
    },
    {
     "name": "stderr",
     "output_type": "stream",
     "text": [
      "scp: /scratch/project_462000451/gene_out/gene_auto/code_debug_tester/*batch*1/scanfiles*2/scan.log: No such file or directory\n",
      "scp: /scratch/project_462000451/gene_out/gene_auto/code_debug_tester/*batch*1/scanfiles*2/geneerr.log: No such file or directory\n"
     ]
    },
    {
     "name": "stdout",
     "output_type": "stream",
     "text": [
      "[0, 256, 256, 256, 0, 256, 256]\n"
     ]
    },
    {
     "name": "stderr",
     "output_type": "stream",
     "text": [
      "scp: /scratch/project_462000451/gene_out/gene_auto/code_debug_tester/*batch*1/scanfiles*3/scan.log: No such file or directory\n",
      "scp: /scratch/project_462000451/gene_out/gene_auto/code_debug_tester/*batch*1/scanfiles*3/geneerr.log: No such file or directory\n"
     ]
    },
    {
     "name": "stdout",
     "output_type": "stream",
     "text": [
      "[0, 256, 256, 256, 0, 256, 256, 256]\n"
     ]
    },
    {
     "name": "stderr",
     "output_type": "stream",
     "text": [
      "scp: /scratch/project_462000451/gene_out/gene_auto/code_debug_tester/*batch*2/scanfiles*0/scan.log: No such file or directory\n",
      "scp: /scratch/project_462000451/gene_out/gene_auto/code_debug_tester/*batch*2/scanfiles*0/geneerr.log: No such file or directory\n"
     ]
    },
    {
     "name": "stdout",
     "output_type": "stream",
     "text": [
      "[0, 256, 256, 256, 0, 256, 256, 256, 256]\n"
     ]
    },
    {
     "name": "stderr",
     "output_type": "stream",
     "text": [
      "scp: /scratch/project_462000451/gene_out/gene_auto/code_debug_tester/*batch*3/scanfiles*0/scan.log: No such file or directory\n",
      "scp: /scratch/project_462000451/gene_out/gene_auto/code_debug_tester/*batch*3/scanfiles*0/geneerr.log: No such file or directory\n"
     ]
    },
    {
     "name": "stdout",
     "output_type": "stream",
     "text": [
      "[0, 256, 256, 256, 0, 256, 256, 256, 256, 256]\n"
     ]
    },
    {
     "name": "stderr",
     "output_type": "stream",
     "text": [
      "scp: /scratch/project_462000451/gene_out/gene_auto/code_debug_tester/*batch*4/scanfiles*0/scan.log: No such file or directory\n",
      "scp: /scratch/project_462000451/gene_out/gene_auto/code_debug_tester/*batch*4/scanfiles*0/geneerr.log: No such file or directory\n",
      "/home/djdaniel/DEEPlasma/GENE_ML/gene_ml/dataset/ScanData.py:61: RuntimeWarning: invalid value encountered in scalar divide\n",
      "  nan_percentage = (n_samp-n_samp_nonan)*100/n_samp\n"
     ]
    },
    {
     "name": "stdout",
     "output_type": "stream",
     "text": [
      "[0, 256, 256, 256, 0, 256, 256, 256, 256, 256, 256]\n",
      "THE ABOVE ERROR IS EXPECTED\n",
      "SCANLOG/S RETRIEVED AND SAVED TO:/home/djdaniel/DEEPlasma/scanlogs/code_debug_tester\n",
      "\n",
      "LOADING FROM SCANLOG DIR: /home/djdaniel/DEEPlasma/scanlogs/code_debug_tester\n",
      "LOG PATHS ['geneerr_batch-0_scanfiles-0.log' 'geneerr_batch-1_scanfiles-0.log'\n",
      " 'scan_batch-0_scanfiles-0.log' 'scan_batch-1_scanfiles-0.log']\n",
      "\n",
      "LOADING SCANLOG AND TIME INTO PANDAS DATAFRAME /home/djdaniel/DEEPlasma/scanlogs/code_debug_tester/scan_batch-0_scanfiles-0.log : /home/djdaniel/DEEPlasma/scanlogs/code_debug_tester/geneerr_batch-0_scanfiles-0.log\n",
      "\n",
      "LOADING SCANLOG AND TIME INTO PANDAS DATAFRAME /home/djdaniel/DEEPlasma/scanlogs/code_debug_tester/scan_batch-1_scanfiles-0.log : /home/djdaniel/DEEPlasma/scanlogs/code_debug_tester/geneerr_batch-1_scanfiles-0.log\n",
      "\n",
      "0 SAMPLES RAN OUT OF 8 BEFORE MAX WALLTIME:\n",
      "NUMBER OF SAMPLES AFTER REMOVING NaN's: 0\n",
      "NaN PERCENTAGE =  nan\n",
      "SETTING VARIABLES\n",
      "\n",
      "RANDOMLY SPLITTING DATA INTO TEST AND TRAINING SETS: 50% test, 50 training.\n"
     ]
    },
    {
     "ename": "ValueError",
     "evalue": "With n_samples=0, test_size=0.5 and train_size=None, the resulting train set will be empty. Adjust any of the aforementioned parameters.",
     "output_type": "error",
     "traceback": [
      "\u001b[0;31m---------------------------------------------------------------------------\u001b[0m",
      "\u001b[0;31mValueError\u001b[0m                                Traceback (most recent call last)",
      "Cell \u001b[0;32mIn[25], line 4\u001b[0m\n\u001b[1;32m      1\u001b[0m \u001b[38;5;28;01mfrom\u001b[39;00m \u001b[38;5;21;01mGENE_ML\u001b[39;00m\u001b[38;5;21;01m.\u001b[39;00m\u001b[38;5;21;01mgene_ml\u001b[39;00m\u001b[38;5;21;01m.\u001b[39;00m\u001b[38;5;21;01mdataset\u001b[39;00m\u001b[38;5;21;01m.\u001b[39;00m\u001b[38;5;21;01mScanData\u001b[39;00m \u001b[38;5;28;01mimport\u001b[39;00m ScanData\n\u001b[1;32m      2\u001b[0m \u001b[38;5;28;01mfrom\u001b[39;00m \u001b[38;5;21;01mconfig\u001b[39;00m \u001b[38;5;28;01mimport\u001b[39;00m config\n\u001b[0;32m----> 4\u001b[0m data_set \u001b[38;5;241m=\u001b[39m \u001b[43mScanData\u001b[49m\u001b[43m(\u001b[49m\u001b[38;5;124;43m'\u001b[39;49m\u001b[38;5;124;43mcode_debug_tester\u001b[39;49m\u001b[38;5;124;43m'\u001b[39;49m\u001b[43m,\u001b[49m\u001b[43m \u001b[49m\u001b[43mparser\u001b[49m\u001b[38;5;241;43m=\u001b[39;49m\u001b[43mdatagen\u001b[49m\u001b[38;5;241;43m.\u001b[39;49m\u001b[43mparser\u001b[49m\u001b[43m,\u001b[49m\u001b[43m \u001b[49m\u001b[43mhost\u001b[49m\u001b[38;5;241;43m=\u001b[39;49m\u001b[43mconfig\u001b[49m\u001b[38;5;241;43m.\u001b[39;49m\u001b[43mhost\u001b[49m\u001b[43m,\u001b[49m\u001b[43m \u001b[49m\u001b[43mremote_path\u001b[49m\u001b[38;5;241;43m=\u001b[39;49m\u001b[43mdatagen\u001b[49m\u001b[38;5;241;43m.\u001b[39;49m\u001b[43mremote_save_dir\u001b[49m\u001b[43m,\u001b[49m\u001b[43m  \u001b[49m\u001b[43mtest_percentage\u001b[49m\u001b[38;5;241;43m=\u001b[39;49m\u001b[38;5;241;43m50\u001b[39;49m\u001b[43m)\u001b[49m\n",
      "File \u001b[0;32m~/DEEPlasma/GENE_ML/gene_ml/dataset/ScanData.py:71\u001b[0m, in \u001b[0;36mScanData.__init__\u001b[0;34m(self, name, parser, sampler, host, remote_path, test_percentage, random_state, parameters_map)\u001b[0m\n\u001b[1;32m     69\u001b[0m     \u001b[38;5;28mself\u001b[39m\u001b[38;5;241m.\u001b[39mmatch_sampler(\u001b[38;5;28mself\u001b[39m\u001b[38;5;241m.\u001b[39msampler)\n\u001b[1;32m     70\u001b[0m \u001b[38;5;28mprint\u001b[39m(\u001b[38;5;124m'\u001b[39m\u001b[38;5;124mSETTING VARIABLES\u001b[39m\u001b[38;5;124m'\u001b[39m)\n\u001b[0;32m---> 71\u001b[0m \u001b[38;5;28;43mself\u001b[39;49m\u001b[38;5;241;43m.\u001b[39;49m\u001b[43mset_from_df\u001b[49m\u001b[43m(\u001b[49m\u001b[43m)\u001b[49m\n",
      "File \u001b[0;32m~/DEEPlasma/GENE_ML/gene_ml/dataset/ScanData.py:88\u001b[0m, in \u001b[0;36mScanData.set_from_df\u001b[0;34m(self)\u001b[0m\n\u001b[1;32m     86\u001b[0m     \u001b[38;5;28mself\u001b[39m\u001b[38;5;241m.\u001b[39mfrequencies_test \u001b[38;5;241m=\u001b[39m \u001b[38;5;28;01mNone\u001b[39;00m\n\u001b[1;32m     87\u001b[0m \u001b[38;5;28;01melse\u001b[39;00m:\n\u001b[0;32m---> 88\u001b[0m     \u001b[38;5;28;43mself\u001b[39;49m\u001b[38;5;241;43m.\u001b[39;49m\u001b[43msplit\u001b[49m\u001b[43m(\u001b[49m\u001b[43m)\u001b[49m\n",
      "File \u001b[0;32m~/DEEPlasma/GENE_ML/gene_ml/dataset/ScanData.py:92\u001b[0m, in \u001b[0;36mScanData.split\u001b[0;34m(self)\u001b[0m\n\u001b[1;32m     90\u001b[0m \u001b[38;5;28;01mdef\u001b[39;00m \u001b[38;5;21msplit\u001b[39m(\u001b[38;5;28mself\u001b[39m):    \n\u001b[1;32m     91\u001b[0m     \u001b[38;5;28mprint\u001b[39m(\u001b[38;5;124mf\u001b[39m\u001b[38;5;124m'\u001b[39m\u001b[38;5;130;01m\\n\u001b[39;00m\u001b[38;5;124mRANDOMLY SPLITTING DATA INTO TEST AND TRAINING SETS: \u001b[39m\u001b[38;5;132;01m{\u001b[39;00m\u001b[38;5;28mself\u001b[39m\u001b[38;5;241m.\u001b[39mtest_percentage\u001b[38;5;132;01m}\u001b[39;00m\u001b[38;5;124m% test, \u001b[39m\u001b[38;5;132;01m{\u001b[39;00m\u001b[38;5;241m100\u001b[39m\u001b[38;5;241m-\u001b[39m\u001b[38;5;28mself\u001b[39m\u001b[38;5;241m.\u001b[39mtest_percentage\u001b[38;5;132;01m}\u001b[39;00m\u001b[38;5;124m training.\u001b[39m\u001b[38;5;124m'\u001b[39m)\n\u001b[0;32m---> 92\u001b[0m     \u001b[38;5;28mself\u001b[39m\u001b[38;5;241m.\u001b[39mx_train, \u001b[38;5;28mself\u001b[39m\u001b[38;5;241m.\u001b[39mx_test, \u001b[38;5;28mself\u001b[39m\u001b[38;5;241m.\u001b[39mgrowthrate_train, \u001b[38;5;28mself\u001b[39m\u001b[38;5;241m.\u001b[39mgrowthrate_test, \u001b[38;5;28mself\u001b[39m\u001b[38;5;241m.\u001b[39mfrequencies_train, \u001b[38;5;28mself\u001b[39m\u001b[38;5;241m.\u001b[39mfrequencies_test \u001b[38;5;241m=\u001b[39m \u001b[43mtrain_test_split\u001b[49m\u001b[43m(\u001b[49m\u001b[38;5;28;43mself\u001b[39;49m\u001b[38;5;241;43m.\u001b[39;49m\u001b[43mx\u001b[49m\u001b[43m,\u001b[49m\u001b[43m \u001b[49m\u001b[38;5;28;43mself\u001b[39;49m\u001b[38;5;241;43m.\u001b[39;49m\u001b[43mgrowthrates\u001b[49m\u001b[43m,\u001b[49m\u001b[43m \u001b[49m\u001b[38;5;28;43mself\u001b[39;49m\u001b[38;5;241;43m.\u001b[39;49m\u001b[43mfrequencies\u001b[49m\u001b[43m,\u001b[49m\u001b[43m \u001b[49m\u001b[43mtest_size\u001b[49m\u001b[38;5;241;43m=\u001b[39;49m\u001b[38;5;28;43mself\u001b[39;49m\u001b[38;5;241;43m.\u001b[39;49m\u001b[43mtest_percentage\u001b[49m\u001b[38;5;241;43m/\u001b[39;49m\u001b[38;5;241;43m100\u001b[39;49m\u001b[43m,\u001b[49m\u001b[43m \u001b[49m\u001b[43mrandom_state\u001b[49m\u001b[38;5;241;43m=\u001b[39;49m\u001b[38;5;28;43mself\u001b[39;49m\u001b[38;5;241;43m.\u001b[39;49m\u001b[43mrandom_state\u001b[49m\u001b[43m)\u001b[49m\n",
      "File \u001b[0;32m~/anaconda3/envs/gene_ml/lib/python3.12/site-packages/sklearn/utils/_param_validation.py:213\u001b[0m, in \u001b[0;36mvalidate_params.<locals>.decorator.<locals>.wrapper\u001b[0;34m(*args, **kwargs)\u001b[0m\n\u001b[1;32m    207\u001b[0m \u001b[38;5;28;01mtry\u001b[39;00m:\n\u001b[1;32m    208\u001b[0m     \u001b[38;5;28;01mwith\u001b[39;00m config_context(\n\u001b[1;32m    209\u001b[0m         skip_parameter_validation\u001b[38;5;241m=\u001b[39m(\n\u001b[1;32m    210\u001b[0m             prefer_skip_nested_validation \u001b[38;5;129;01mor\u001b[39;00m global_skip_validation\n\u001b[1;32m    211\u001b[0m         )\n\u001b[1;32m    212\u001b[0m     ):\n\u001b[0;32m--> 213\u001b[0m         \u001b[38;5;28;01mreturn\u001b[39;00m \u001b[43mfunc\u001b[49m\u001b[43m(\u001b[49m\u001b[38;5;241;43m*\u001b[39;49m\u001b[43margs\u001b[49m\u001b[43m,\u001b[49m\u001b[43m \u001b[49m\u001b[38;5;241;43m*\u001b[39;49m\u001b[38;5;241;43m*\u001b[39;49m\u001b[43mkwargs\u001b[49m\u001b[43m)\u001b[49m\n\u001b[1;32m    214\u001b[0m \u001b[38;5;28;01mexcept\u001b[39;00m InvalidParameterError \u001b[38;5;28;01mas\u001b[39;00m e:\n\u001b[1;32m    215\u001b[0m     \u001b[38;5;66;03m# When the function is just a wrapper around an estimator, we allow\u001b[39;00m\n\u001b[1;32m    216\u001b[0m     \u001b[38;5;66;03m# the function to delegate validation to the estimator, but we replace\u001b[39;00m\n\u001b[1;32m    217\u001b[0m     \u001b[38;5;66;03m# the name of the estimator by the name of the function in the error\u001b[39;00m\n\u001b[1;32m    218\u001b[0m     \u001b[38;5;66;03m# message to avoid confusion.\u001b[39;00m\n\u001b[1;32m    219\u001b[0m     msg \u001b[38;5;241m=\u001b[39m re\u001b[38;5;241m.\u001b[39msub(\n\u001b[1;32m    220\u001b[0m         \u001b[38;5;124mr\u001b[39m\u001b[38;5;124m\"\u001b[39m\u001b[38;5;124mparameter of \u001b[39m\u001b[38;5;124m\\\u001b[39m\u001b[38;5;124mw+ must be\u001b[39m\u001b[38;5;124m\"\u001b[39m,\n\u001b[1;32m    221\u001b[0m         \u001b[38;5;124mf\u001b[39m\u001b[38;5;124m\"\u001b[39m\u001b[38;5;124mparameter of \u001b[39m\u001b[38;5;132;01m{\u001b[39;00mfunc\u001b[38;5;241m.\u001b[39m\u001b[38;5;18m__qualname__\u001b[39m\u001b[38;5;132;01m}\u001b[39;00m\u001b[38;5;124m must be\u001b[39m\u001b[38;5;124m\"\u001b[39m,\n\u001b[1;32m    222\u001b[0m         \u001b[38;5;28mstr\u001b[39m(e),\n\u001b[1;32m    223\u001b[0m     )\n",
      "File \u001b[0;32m~/anaconda3/envs/gene_ml/lib/python3.12/site-packages/sklearn/model_selection/_split.py:2778\u001b[0m, in \u001b[0;36mtrain_test_split\u001b[0;34m(test_size, train_size, random_state, shuffle, stratify, *arrays)\u001b[0m\n\u001b[1;32m   2775\u001b[0m arrays \u001b[38;5;241m=\u001b[39m indexable(\u001b[38;5;241m*\u001b[39marrays)\n\u001b[1;32m   2777\u001b[0m n_samples \u001b[38;5;241m=\u001b[39m _num_samples(arrays[\u001b[38;5;241m0\u001b[39m])\n\u001b[0;32m-> 2778\u001b[0m n_train, n_test \u001b[38;5;241m=\u001b[39m \u001b[43m_validate_shuffle_split\u001b[49m\u001b[43m(\u001b[49m\n\u001b[1;32m   2779\u001b[0m \u001b[43m    \u001b[49m\u001b[43mn_samples\u001b[49m\u001b[43m,\u001b[49m\u001b[43m \u001b[49m\u001b[43mtest_size\u001b[49m\u001b[43m,\u001b[49m\u001b[43m \u001b[49m\u001b[43mtrain_size\u001b[49m\u001b[43m,\u001b[49m\u001b[43m \u001b[49m\u001b[43mdefault_test_size\u001b[49m\u001b[38;5;241;43m=\u001b[39;49m\u001b[38;5;241;43m0.25\u001b[39;49m\n\u001b[1;32m   2780\u001b[0m \u001b[43m\u001b[49m\u001b[43m)\u001b[49m\n\u001b[1;32m   2782\u001b[0m \u001b[38;5;28;01mif\u001b[39;00m shuffle \u001b[38;5;129;01mis\u001b[39;00m \u001b[38;5;28;01mFalse\u001b[39;00m:\n\u001b[1;32m   2783\u001b[0m     \u001b[38;5;28;01mif\u001b[39;00m stratify \u001b[38;5;129;01mis\u001b[39;00m \u001b[38;5;129;01mnot\u001b[39;00m \u001b[38;5;28;01mNone\u001b[39;00m:\n",
      "File \u001b[0;32m~/anaconda3/envs/gene_ml/lib/python3.12/site-packages/sklearn/model_selection/_split.py:2408\u001b[0m, in \u001b[0;36m_validate_shuffle_split\u001b[0;34m(n_samples, test_size, train_size, default_test_size)\u001b[0m\n\u001b[1;32m   2405\u001b[0m n_train, n_test \u001b[38;5;241m=\u001b[39m \u001b[38;5;28mint\u001b[39m(n_train), \u001b[38;5;28mint\u001b[39m(n_test)\n\u001b[1;32m   2407\u001b[0m \u001b[38;5;28;01mif\u001b[39;00m n_train \u001b[38;5;241m==\u001b[39m \u001b[38;5;241m0\u001b[39m:\n\u001b[0;32m-> 2408\u001b[0m     \u001b[38;5;28;01mraise\u001b[39;00m \u001b[38;5;167;01mValueError\u001b[39;00m(\n\u001b[1;32m   2409\u001b[0m         \u001b[38;5;124m\"\u001b[39m\u001b[38;5;124mWith n_samples=\u001b[39m\u001b[38;5;132;01m{}\u001b[39;00m\u001b[38;5;124m, test_size=\u001b[39m\u001b[38;5;132;01m{}\u001b[39;00m\u001b[38;5;124m and train_size=\u001b[39m\u001b[38;5;132;01m{}\u001b[39;00m\u001b[38;5;124m, the \u001b[39m\u001b[38;5;124m\"\u001b[39m\n\u001b[1;32m   2410\u001b[0m         \u001b[38;5;124m\"\u001b[39m\u001b[38;5;124mresulting train set will be empty. Adjust any of the \u001b[39m\u001b[38;5;124m\"\u001b[39m\n\u001b[1;32m   2411\u001b[0m         \u001b[38;5;124m\"\u001b[39m\u001b[38;5;124maforementioned parameters.\u001b[39m\u001b[38;5;124m\"\u001b[39m\u001b[38;5;241m.\u001b[39mformat(n_samples, test_size, train_size)\n\u001b[1;32m   2412\u001b[0m     )\n\u001b[1;32m   2414\u001b[0m \u001b[38;5;28;01mreturn\u001b[39;00m n_train, n_test\n",
      "\u001b[0;31mValueError\u001b[0m: With n_samples=0, test_size=0.5 and train_size=None, the resulting train set will be empty. Adjust any of the aforementioned parameters."
     ]
    }
   ],
   "source": [
    "from GENE_ML.gene_ml.dataset.ScanData import ScanData\n",
    "from config import config\n",
    "\n",
    "data_set = ScanData('code_debug_tester', parser=datagen.parser, host=config.host, remote_path=datagen.remote_save_dir,  test_percentage=50)\n"
   ]
  },
  {
   "cell_type": "code",
   "execution_count": 19,
   "metadata": {},
   "outputs": [
    {
     "data": {
      "text/html": [
       "<div>\n",
       "<style scoped>\n",
       "    .dataframe tbody tr th:only-of-type {\n",
       "        vertical-align: middle;\n",
       "    }\n",
       "\n",
       "    .dataframe tbody tr th {\n",
       "        vertical-align: top;\n",
       "    }\n",
       "\n",
       "    .dataframe thead th {\n",
       "        text-align: right;\n",
       "    }\n",
       "</style>\n",
       "<table border=\"1\" class=\"dataframe\">\n",
       "  <thead>\n",
       "    <tr style=\"text-align: right;\">\n",
       "      <th></th>\n",
       "      <th>run_time</th>\n",
       "      <th>omt2</th>\n",
       "      <th>omt1</th>\n",
       "      <th>omn1</th>\n",
       "      <th>growthrate</th>\n",
       "      <th>frequency</th>\n",
       "    </tr>\n",
       "  </thead>\n",
       "  <tbody>\n",
       "    <tr>\n",
       "      <th>0</th>\n",
       "      <td>28.576</td>\n",
       "      <td>3.381341</td>\n",
       "      <td>4.499231</td>\n",
       "      <td>1.386877</td>\n",
       "      <td>8.5470</td>\n",
       "      <td>-25.4860</td>\n",
       "    </tr>\n",
       "    <tr>\n",
       "      <th>1</th>\n",
       "      <td>31.241</td>\n",
       "      <td>3.116692</td>\n",
       "      <td>4.539037</td>\n",
       "      <td>2.544643</td>\n",
       "      <td>5.6990</td>\n",
       "      <td>-9.4170</td>\n",
       "    </tr>\n",
       "    <tr>\n",
       "      <th>2</th>\n",
       "      <td>107.051</td>\n",
       "      <td>2.196530</td>\n",
       "      <td>6.083308</td>\n",
       "      <td>2.124313</td>\n",
       "      <td>1.2290</td>\n",
       "      <td>-7.2660</td>\n",
       "    </tr>\n",
       "    <tr>\n",
       "      <th>3</th>\n",
       "      <td>44.102</td>\n",
       "      <td>2.882231</td>\n",
       "      <td>5.836209</td>\n",
       "      <td>0.328710</td>\n",
       "      <td>3.6090</td>\n",
       "      <td>-36.6460</td>\n",
       "    </tr>\n",
       "    <tr>\n",
       "      <th>4</th>\n",
       "      <td>24.030</td>\n",
       "      <td>3.319788</td>\n",
       "      <td>5.275577</td>\n",
       "      <td>1.054928</td>\n",
       "      <td>7.7850</td>\n",
       "      <td>-29.4530</td>\n",
       "    </tr>\n",
       "  </tbody>\n",
       "</table>\n",
       "</div>"
      ],
      "text/plain": [
       "  run_time      omt2      omt1      omn1 growthrate frequency\n",
       "0   28.576  3.381341  4.499231  1.386877     8.5470  -25.4860\n",
       "1   31.241  3.116692  4.539037  2.544643     5.6990   -9.4170\n",
       "2  107.051  2.196530  6.083308  2.124313     1.2290   -7.2660\n",
       "3   44.102  2.882231  5.836209  0.328710     3.6090  -36.6460\n",
       "4   24.030  3.319788  5.275577  1.054928     7.7850  -29.4530"
      ]
     },
     "execution_count": 19,
     "metadata": {},
     "output_type": "execute_result"
    }
   ],
   "source": [
    "data_set.df"
   ]
  },
  {
   "cell_type": "code",
   "execution_count": 20,
   "metadata": {},
   "outputs": [
    {
     "data": {
      "text/plain": [
       "array([[3.381341 , 4.499231 , 1.386877 ],\n",
       "       [3.116692 , 4.539037 , 2.544643 ],\n",
       "       [2.19653  , 6.083308 , 2.124313 ],\n",
       "       [2.882231 , 5.836209 , 0.3287098],\n",
       "       [3.319788 , 5.275577 , 1.054928 ]])"
      ]
     },
     "execution_count": 20,
     "metadata": {},
     "output_type": "execute_result"
    }
   ],
   "source": [
    "data_set.x"
   ]
  },
  {
   "cell_type": "code",
   "execution_count": 25,
   "metadata": {},
   "outputs": [
    {
     "data": {
      "text/plain": [
       "(array([[3.319788, 5.275577, 1.054928],\n",
       "        [3.381341, 4.499231, 1.386877]]),\n",
       " array([7.785, 8.547]))"
      ]
     },
     "execution_count": 25,
     "metadata": {},
     "output_type": "execute_result"
    }
   ],
   "source": [
    "data_set.x_train, data_set.growthrate_train"
   ]
  },
  {
   "cell_type": "code",
   "execution_count": 24,
   "metadata": {},
   "outputs": [
    {
     "data": {
      "text/plain": [
       "(array([[2.19653  , 6.083308 , 2.124313 ],\n",
       "        [3.116692 , 4.539037 , 2.544643 ],\n",
       "        [2.882231 , 5.836209 , 0.3287098]]),\n",
       " array([1.229, 5.699, 3.609]))"
      ]
     },
     "execution_count": 24,
     "metadata": {},
     "output_type": "execute_result"
    }
   ],
   "source": [
    "data_set.x_test, data_set.growthrate_test"
   ]
  },
  {
   "cell_type": "markdown",
   "metadata": {},
   "source": [
    "# Loading data already saved in scanlogs\n"
   ]
  },
  {
   "cell_type": "code",
   "execution_count": 27,
   "metadata": {},
   "outputs": [
    {
     "name": "stdout",
     "output_type": "stream",
     "text": [
      "Initialising dataset\n",
      "SSH PATH None:None\n",
      "SCAN LOG PATH /home/djdaniel/DEEPlasma/scanlogs/data_gen_tutorial4\n",
      "\n",
      "LOADING FROM SCANLOG DIR: /home/djdaniel/DEEPlasma/scanlogs/data_gen_tutorial4\n",
      "LOG PATHS ['geneerr_batch-0_scanfiles-0.log' 'scan_batch-0_scanfiles-0.log']\n",
      "\n",
      "LOADING SCANLOG AND TIME INTO PANDAS DATAFRAME /home/djdaniel/DEEPlasma/scanlogs/data_gen_tutorial4/scan_batch-0_scanfiles-0.log : /home/djdaniel/DEEPlasma/scanlogs/data_gen_tutorial4/geneerr_batch-0_scanfiles-0.log\n",
      "\n",
      "5 SAMPLES RAN OUT OF 5 BEFORE MAX WALLTIME:\n",
      "NUMBER OF SAMPLES AFTER REMOVING NaN's: 5\n",
      "NaN PERCENTAGE =  0.0\n",
      "SETTING VARIABLES\n",
      "\n",
      "RANDOMLY SPLITTING DATA INTO TEST AND TRAINING SETS: 50% test, 50 training.\n"
     ]
    }
   ],
   "source": [
    "from GENE_ML.gene_ml.parsers.GENEparser import GENE_scan_parser\n",
    "from config import config\n",
    "\n",
    "parser = GENE_scan_parser(config.save_dir, config.base_params_path)\n",
    "\n",
    "data_set = ScanData('data_gen_tutorial4', parser=parser, host=None, remote_path=None,  test_percentage=50)\n"
   ]
  },
  {
   "cell_type": "markdown",
   "metadata": {},
   "source": [
    "# Combine datasets"
   ]
  },
  {
   "cell_type": "code",
   "execution_count": 29,
   "metadata": {},
   "outputs": [
    {
     "name": "stdout",
     "output_type": "stream",
     "text": [
      "Initialising dataset\n",
      "SSH PATH None:None\n",
      "SCAN LOG PATH /home/djdaniel/DEEPlasma/scanlogs/data_gen_tutorial4\n",
      "\n",
      "LOADING FROM SCANLOG DIR: /home/djdaniel/DEEPlasma/scanlogs/data_gen_tutorial4\n",
      "LOG PATHS ['geneerr_batch-0_scanfiles-0.log' 'scan_batch-0_scanfiles-0.log']\n",
      "\n",
      "LOADING SCANLOG AND TIME INTO PANDAS DATAFRAME /home/djdaniel/DEEPlasma/scanlogs/data_gen_tutorial4/scan_batch-0_scanfiles-0.log : /home/djdaniel/DEEPlasma/scanlogs/data_gen_tutorial4/geneerr_batch-0_scanfiles-0.log\n",
      "\n",
      "5 SAMPLES RAN OUT OF 5 BEFORE MAX WALLTIME:\n",
      "NUMBER OF SAMPLES AFTER REMOVING NaN's: 5\n",
      "NaN PERCENTAGE =  0.0\n",
      "SETTING VARIABLES\n",
      "\n",
      "RANDOMLY SPLITTING DATA INTO TEST AND TRAINING SETS: 50% test, 50 training.\n",
      "Initialising dataset\n",
      "SSH PATH None:None\n",
      "SCAN LOG PATH /home/djdaniel/DEEPlasma/scanlogs/data_gen_tutorial4\n",
      "\n",
      "LOADING FROM SCANLOG DIR: /home/djdaniel/DEEPlasma/scanlogs/data_gen_tutorial4\n",
      "LOG PATHS ['geneerr_batch-0_scanfiles-0.log' 'scan_batch-0_scanfiles-0.log']\n",
      "\n",
      "LOADING SCANLOG AND TIME INTO PANDAS DATAFRAME /home/djdaniel/DEEPlasma/scanlogs/data_gen_tutorial4/scan_batch-0_scanfiles-0.log : /home/djdaniel/DEEPlasma/scanlogs/data_gen_tutorial4/geneerr_batch-0_scanfiles-0.log\n",
      "\n",
      "5 SAMPLES RAN OUT OF 5 BEFORE MAX WALLTIME:\n",
      "NUMBER OF SAMPLES AFTER REMOVING NaN's: 5\n",
      "NaN PERCENTAGE =  0.0\n",
      "SETTING VARIABLES\n",
      "\n",
      "RANDOMLY SPLITTING DATA INTO TEST AND TRAINING SETS: 50% test, 50 training.\n",
      "\n",
      "RANDOMLY SPLITTING DATA INTO TEST AND TRAINING SETS: 50% test, 50 training.\n"
     ]
    },
    {
     "data": {
      "text/plain": [
       "(  run_time      omt2      omt1      omn1 growthrate frequency\n",
       " 0   28.576  3.381341  4.499231  1.386877     8.5470  -25.4860\n",
       " 1   31.241  3.116692  4.539037  2.544643     5.6990   -9.4170\n",
       " 2  107.051  2.196530  6.083308  2.124313     1.2290   -7.2660\n",
       " 3   44.102  2.882231  5.836209  0.328710     3.6090  -36.6460\n",
       " 4   24.030  3.319788  5.275577  1.054928     7.7850  -29.4530\n",
       " 0   28.576  3.381341  4.499231  1.386877     8.5470  -25.4860\n",
       " 1   31.241  3.116692  4.539037  2.544643     5.6990   -9.4170\n",
       " 2  107.051  2.196530  6.083308  2.124313     1.2290   -7.2660\n",
       " 3   44.102  2.882231  5.836209  0.328710     3.6090  -36.6460\n",
       " 4   24.030  3.319788  5.275577  1.054928     7.7850  -29.4530,\n",
       " array([[2.882231 , 5.836209 , 0.3287098],\n",
       "        [3.381341 , 4.499231 , 1.386877 ],\n",
       "        [3.319788 , 5.275577 , 1.054928 ],\n",
       "        [3.116692 , 4.539037 , 2.544643 ],\n",
       "        [2.19653  , 6.083308 , 2.124313 ]]))"
      ]
     },
     "execution_count": 29,
     "metadata": {},
     "output_type": "execute_result"
    }
   ],
   "source": [
    "data_set_1 = ScanData('data_gen_tutorial4', parser=parser, host=None, remote_path=None,  test_percentage=50)\n",
    "data_set_2 = ScanData('data_gen_tutorial4', parser=parser, host=None, remote_path=None,  test_percentage=50)\n",
    "\n",
    "data_set_3 = data_set_1.concat([data_set_2])\n",
    "\n",
    "data_set_3.df"
   ]
  },
  {
   "cell_type": "code",
   "execution_count": null,
   "metadata": {},
   "outputs": [],
   "source": []
  }
 ],
 "metadata": {
  "kernelspec": {
   "display_name": "gene_ml",
   "language": "python",
   "name": "python3"
  },
  "language_info": {
   "codemirror_mode": {
    "name": "ipython",
    "version": 3
   },
   "file_extension": ".py",
   "mimetype": "text/x-python",
   "name": "python",
   "nbconvert_exporter": "python",
   "pygments_lexer": "ipython3",
   "version": "3.12.3"
  }
 },
 "nbformat": 4,
 "nbformat_minor": 2
}
