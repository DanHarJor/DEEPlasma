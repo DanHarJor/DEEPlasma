{
 "cells": [
  {
   "cell_type": "code",
   "execution_count": 1,
   "metadata": {},
   "outputs": [],
   "source": [
    "%load_ext autoreload\n",
    "%autoreload 2"
   ]
  },
  {
   "cell_type": "code",
   "execution_count": 2,
   "metadata": {},
   "outputs": [
    {
     "name": "stderr",
     "output_type": "stream",
     "text": [
      "/home/djdaniel/anaconda3/envs/gene_ml/lib/python3.12/site-packages/paramiko/pkey.py:82: CryptographyDeprecationWarning: TripleDES has been moved to cryptography.hazmat.decrepit.ciphers.algorithms.TripleDES and will be removed from this module in 48.0.0.\n",
      "  \"cipher\": algorithms.TripleDES,\n",
      "/home/djdaniel/anaconda3/envs/gene_ml/lib/python3.12/site-packages/paramiko/transport.py:219: CryptographyDeprecationWarning: Blowfish has been moved to cryptography.hazmat.decrepit.ciphers.algorithms.Blowfish and will be removed from this module in 45.0.0.\n",
      "  \"class\": algorithms.Blowfish,\n",
      "/home/djdaniel/anaconda3/envs/gene_ml/lib/python3.12/site-packages/paramiko/transport.py:243: CryptographyDeprecationWarning: TripleDES has been moved to cryptography.hazmat.decrepit.ciphers.algorithms.TripleDES and will be removed from this module in 48.0.0.\n",
      "  \"class\": algorithms.TripleDES,\n"
     ]
    },
    {
     "name": "stdout",
     "output_type": "stream",
     "text": [
      "Appending to path: /home/djdaniel/DEEPlasma/config\n"
     ]
    }
   ],
   "source": [
    "import sys\n",
    "import os\n",
    "pathap = os.path.join('GENE_ML','gene_ml','static_sparse_grid_approximations')\n",
    "sys.path.append(pathap)\n",
    "from GENE_ML.gene_ml.samplers.uniform import Uniform\n",
    "from GENE_ML.gene_ml.datagen.datagen import DataGen\n",
    "\n",
    "# check config.py\n",
    "from config import config\n",
    "\n",
    "parameters = ['_grp_species_0-omt','_grp_species_1-omt','species-omn']\n",
    "bounds = [(4,6.7), (2.1,3.5), (0.16,2.9)] #if bounds is a float rather than tuple then the sampler will make that the only value\n",
    "\n",
    "num_samples = 5\n",
    "\n",
    "sampler_uniform = Uniform(parameters=parameters, num_samples=num_samples ,bounds=bounds)\n",
    "\n",
    "# Folder name for the data to be saved in within the self.remote_save_base_dir of config\n",
    "remote_save_name = \"data_gen_tutorial4\"\n",
    "\n",
    "# This is used to identify the problem folder in gene\n",
    "ex_id = 'dgt4'\n",
    "\n",
    "single_run_timelim = 900\n",
    "single_run_simtimelim = 10e-2#put this in seconds and it will be converted to the correct units for GENE\n",
    "\n",
    "datagen = DataGen(config, sampler_uniform, \n",
    "                  ex_id=ex_id, remote_save_name=remote_save_name, \n",
    "                  single_run_timelim=single_run_simtimelim, \n",
    "                  single_run_simtimelim=single_run_simtimelim, num_workers=1)\n",
    "\n"
   ]
  },
  {
   "cell_type": "code",
   "execution_count": 24,
   "metadata": {},
   "outputs": [
    {
     "name": "stdout",
     "output_type": "stream",
     "text": [
      "['hello\\n', 'I \\n', 'Am \\n', 'Here\\n']\n"
     ]
    }
   ],
   "source": [
    "file = datagen.parser.open_file('/project/project_462000451/gene/auto_prob_ex-dgt4_batch-0/parameters')\n",
    "print(file.readlines())\n",
    "file.close()"
   ]
  },
  {
   "cell_type": "code",
   "execution_count": 8,
   "metadata": {},
   "outputs": [
    {
     "name": "stdout",
     "output_type": "stream",
     "text": [
      "====================================================================================================\n",
      "EXECUTING BATCHES\n",
      "\n",
      "CODE RUN\n",
      "THE ESTIMATED WALLTIME FOR RUN ex-dgt4_batch-0 is 00-00:05:25, dd-hh-mm-ss TO RUN 5 SAMPLES\n",
      "ALTERING THE BASE PARAMETERS FILE TO SET THE TIMELIM AND SIMTIMELIM TO THE WALLTIME\n",
      "Writing to /home/djdaniel/DEEPlasma/parameters_base_dp\n",
      "Writing to /home/djdaniel/DEEPlasma/parameters_base_dp\n",
      "PARSING SAMPLES TO INPUT FILE at temp/parameters_ex-dgt4_batch-0\n",
      "Writing to /home/djdaniel/DEEPlasma/temp/\n",
      "GENERATING SBATCH FROM PARAMETERS FILE at temp/sbatch_ex-dgt4_batch-0\n",
      "WALL CLOCK LIMIT FOR BATCH ex-dgt4_batch-0:   00-00:05:25\n",
      "CREATING A NEW PROBLEM DIR WITH SSH\n",
      "MOVING PARAMETERS AND SBATCH FILES TO CORRECT LOCATION IN REMOTE; SUBMITTING GENE SBATCH\n",
      "set lib path in ./tools/scanscript\n",
      "set lib path in ./tools/scanscript\n",
      "created prob15\n",
      "copied parameters\n",
      "created link to the GENE executable in the bin directory\n",
      "CREATING auto_prob_ex-dgt4_batch-0 in /project/project_462000451/gene/\n",
      "SUBMITTED SBATCH ID 8013001\n"
     ]
    }
   ],
   "source": [
    "datagen.executor.start_runs()"
   ]
  },
  {
   "cell_type": "code",
   "execution_count": 14,
   "metadata": {},
   "outputs": [
    {
     "name": "stdout",
     "output_type": "stream",
     "text": [
      "BATCH IDS ['8013001']\n",
      "\n",
      "CHECKING IF JOBS FINISHED: ['8013001']\n",
      "NONE OF THE INPUTED SBATCH IDs ARE RUNNING\n",
      "\n",
      "\n",
      "EXECUTOR CHECK FINISHED True\n",
      "True\n"
     ]
    }
   ],
   "source": [
    "finished = datagen.executor.check_finished()\n",
    "print(finished)"
   ]
  },
  {
   "cell_type": "code",
   "execution_count": 18,
   "metadata": {},
   "outputs": [
    {
     "name": "stdout",
     "output_type": "stream",
     "text": [
      "Initialising dataset\n",
      "SSH PATH lumi1:/scratch/project_462000451/gene_out/gene_auto/data_gen_tutorial4\n",
      "SCAN LOG PATH /home/djdaniel/DEEPlasma/scanlogs/data_gen_tutorial4\n",
      "\n",
      "LOADING FROM SCANLOG DIR: /home/djdaniel/DEEPlasma/scanlogs/data_gen_tutorial4\n",
      "LOG PATHS ['geneerr_batch-0_scanfiles-0.log' 'scan_batch-0_scanfiles-0.log']\n",
      "\n",
      "LOADING SCANLOG AND TIME INTO PANDAS DATAFRAME /home/djdaniel/DEEPlasma/scanlogs/data_gen_tutorial4/scan_batch-0_scanfiles-0.log : /home/djdaniel/DEEPlasma/scanlogs/data_gen_tutorial4/geneerr_batch-0_scanfiles-0.log\n",
      "\n",
      "5 SAMPLES RAN OUT OF 5 BEFORE MAX WALLTIME:\n",
      "NUMBER OF SAMPLES AFTER REMOVING NaN's: 5\n",
      "NaN PERCENTAGE =  0.0\n",
      "SETTING VARIABLES\n",
      "\n",
      "RANDOMLY SPLITTING DATA INTO TEST AND TRAINING SETS: 50% test, 50 training.\n"
     ]
    }
   ],
   "source": [
    "from GENE_ML.gene_ml.dataset.ScanData import ScanData\n",
    "from config import config\n",
    "\n",
    "data_set = ScanData('data_gen_tutorial4', parser=datagen.parser, host=config.host, remote_path=datagen.remote_save_dir,  test_percentage=50)\n"
   ]
  },
  {
   "cell_type": "code",
   "execution_count": 19,
   "metadata": {},
   "outputs": [
    {
     "data": {
      "text/html": [
       "<div>\n",
       "<style scoped>\n",
       "    .dataframe tbody tr th:only-of-type {\n",
       "        vertical-align: middle;\n",
       "    }\n",
       "\n",
       "    .dataframe tbody tr th {\n",
       "        vertical-align: top;\n",
       "    }\n",
       "\n",
       "    .dataframe thead th {\n",
       "        text-align: right;\n",
       "    }\n",
       "</style>\n",
       "<table border=\"1\" class=\"dataframe\">\n",
       "  <thead>\n",
       "    <tr style=\"text-align: right;\">\n",
       "      <th></th>\n",
       "      <th>run_time</th>\n",
       "      <th>omt2</th>\n",
       "      <th>omt1</th>\n",
       "      <th>omn1</th>\n",
       "      <th>growthrate</th>\n",
       "      <th>frequency</th>\n",
       "    </tr>\n",
       "  </thead>\n",
       "  <tbody>\n",
       "    <tr>\n",
       "      <th>0</th>\n",
       "      <td>28.576</td>\n",
       "      <td>3.381341</td>\n",
       "      <td>4.499231</td>\n",
       "      <td>1.386877</td>\n",
       "      <td>8.5470</td>\n",
       "      <td>-25.4860</td>\n",
       "    </tr>\n",
       "    <tr>\n",
       "      <th>1</th>\n",
       "      <td>31.241</td>\n",
       "      <td>3.116692</td>\n",
       "      <td>4.539037</td>\n",
       "      <td>2.544643</td>\n",
       "      <td>5.6990</td>\n",
       "      <td>-9.4170</td>\n",
       "    </tr>\n",
       "    <tr>\n",
       "      <th>2</th>\n",
       "      <td>107.051</td>\n",
       "      <td>2.196530</td>\n",
       "      <td>6.083308</td>\n",
       "      <td>2.124313</td>\n",
       "      <td>1.2290</td>\n",
       "      <td>-7.2660</td>\n",
       "    </tr>\n",
       "    <tr>\n",
       "      <th>3</th>\n",
       "      <td>44.102</td>\n",
       "      <td>2.882231</td>\n",
       "      <td>5.836209</td>\n",
       "      <td>0.328710</td>\n",
       "      <td>3.6090</td>\n",
       "      <td>-36.6460</td>\n",
       "    </tr>\n",
       "    <tr>\n",
       "      <th>4</th>\n",
       "      <td>24.030</td>\n",
       "      <td>3.319788</td>\n",
       "      <td>5.275577</td>\n",
       "      <td>1.054928</td>\n",
       "      <td>7.7850</td>\n",
       "      <td>-29.4530</td>\n",
       "    </tr>\n",
       "  </tbody>\n",
       "</table>\n",
       "</div>"
      ],
      "text/plain": [
       "  run_time      omt2      omt1      omn1 growthrate frequency\n",
       "0   28.576  3.381341  4.499231  1.386877     8.5470  -25.4860\n",
       "1   31.241  3.116692  4.539037  2.544643     5.6990   -9.4170\n",
       "2  107.051  2.196530  6.083308  2.124313     1.2290   -7.2660\n",
       "3   44.102  2.882231  5.836209  0.328710     3.6090  -36.6460\n",
       "4   24.030  3.319788  5.275577  1.054928     7.7850  -29.4530"
      ]
     },
     "execution_count": 19,
     "metadata": {},
     "output_type": "execute_result"
    }
   ],
   "source": [
    "data_set.df"
   ]
  },
  {
   "cell_type": "code",
   "execution_count": 20,
   "metadata": {},
   "outputs": [
    {
     "data": {
      "text/plain": [
       "array([[3.381341 , 4.499231 , 1.386877 ],\n",
       "       [3.116692 , 4.539037 , 2.544643 ],\n",
       "       [2.19653  , 6.083308 , 2.124313 ],\n",
       "       [2.882231 , 5.836209 , 0.3287098],\n",
       "       [3.319788 , 5.275577 , 1.054928 ]])"
      ]
     },
     "execution_count": 20,
     "metadata": {},
     "output_type": "execute_result"
    }
   ],
   "source": [
    "data_set.x"
   ]
  },
  {
   "cell_type": "code",
   "execution_count": 25,
   "metadata": {},
   "outputs": [
    {
     "data": {
      "text/plain": [
       "(array([[3.319788, 5.275577, 1.054928],\n",
       "        [3.381341, 4.499231, 1.386877]]),\n",
       " array([7.785, 8.547]))"
      ]
     },
     "execution_count": 25,
     "metadata": {},
     "output_type": "execute_result"
    }
   ],
   "source": [
    "data_set.x_train, data_set.growthrate_train"
   ]
  },
  {
   "cell_type": "code",
   "execution_count": 24,
   "metadata": {},
   "outputs": [
    {
     "data": {
      "text/plain": [
       "(array([[2.19653  , 6.083308 , 2.124313 ],\n",
       "        [3.116692 , 4.539037 , 2.544643 ],\n",
       "        [2.882231 , 5.836209 , 0.3287098]]),\n",
       " array([1.229, 5.699, 3.609]))"
      ]
     },
     "execution_count": 24,
     "metadata": {},
     "output_type": "execute_result"
    }
   ],
   "source": [
    "data_set.x_test, data_set.growthrate_test"
   ]
  },
  {
   "cell_type": "markdown",
   "metadata": {},
   "source": [
    "# Loading data already saved in scanlogs\n"
   ]
  },
  {
   "cell_type": "code",
   "execution_count": 27,
   "metadata": {},
   "outputs": [
    {
     "name": "stdout",
     "output_type": "stream",
     "text": [
      "Initialising dataset\n",
      "SSH PATH None:None\n",
      "SCAN LOG PATH /home/djdaniel/DEEPlasma/scanlogs/data_gen_tutorial4\n",
      "\n",
      "LOADING FROM SCANLOG DIR: /home/djdaniel/DEEPlasma/scanlogs/data_gen_tutorial4\n",
      "LOG PATHS ['geneerr_batch-0_scanfiles-0.log' 'scan_batch-0_scanfiles-0.log']\n",
      "\n",
      "LOADING SCANLOG AND TIME INTO PANDAS DATAFRAME /home/djdaniel/DEEPlasma/scanlogs/data_gen_tutorial4/scan_batch-0_scanfiles-0.log : /home/djdaniel/DEEPlasma/scanlogs/data_gen_tutorial4/geneerr_batch-0_scanfiles-0.log\n",
      "\n",
      "5 SAMPLES RAN OUT OF 5 BEFORE MAX WALLTIME:\n",
      "NUMBER OF SAMPLES AFTER REMOVING NaN's: 5\n",
      "NaN PERCENTAGE =  0.0\n",
      "SETTING VARIABLES\n",
      "\n",
      "RANDOMLY SPLITTING DATA INTO TEST AND TRAINING SETS: 50% test, 50 training.\n"
     ]
    }
   ],
   "source": [
    "from GENE_ML.gene_ml.parsers.GENEparser import GENE_scan_parser\n",
    "from config import config\n",
    "\n",
    "parser = GENE_scan_parser(config.save_dir, config.base_params_path)\n",
    "\n",
    "data_set = ScanData('data_gen_tutorial4', parser=parser, host=None, remote_path=None,  test_percentage=50)\n"
   ]
  },
  {
   "cell_type": "markdown",
   "metadata": {},
   "source": [
    "# Combine datasets"
   ]
  },
  {
   "cell_type": "code",
   "execution_count": 29,
   "metadata": {},
   "outputs": [
    {
     "name": "stdout",
     "output_type": "stream",
     "text": [
      "Initialising dataset\n",
      "SSH PATH None:None\n",
      "SCAN LOG PATH /home/djdaniel/DEEPlasma/scanlogs/data_gen_tutorial4\n",
      "\n",
      "LOADING FROM SCANLOG DIR: /home/djdaniel/DEEPlasma/scanlogs/data_gen_tutorial4\n",
      "LOG PATHS ['geneerr_batch-0_scanfiles-0.log' 'scan_batch-0_scanfiles-0.log']\n",
      "\n",
      "LOADING SCANLOG AND TIME INTO PANDAS DATAFRAME /home/djdaniel/DEEPlasma/scanlogs/data_gen_tutorial4/scan_batch-0_scanfiles-0.log : /home/djdaniel/DEEPlasma/scanlogs/data_gen_tutorial4/geneerr_batch-0_scanfiles-0.log\n",
      "\n",
      "5 SAMPLES RAN OUT OF 5 BEFORE MAX WALLTIME:\n",
      "NUMBER OF SAMPLES AFTER REMOVING NaN's: 5\n",
      "NaN PERCENTAGE =  0.0\n",
      "SETTING VARIABLES\n",
      "\n",
      "RANDOMLY SPLITTING DATA INTO TEST AND TRAINING SETS: 50% test, 50 training.\n",
      "Initialising dataset\n",
      "SSH PATH None:None\n",
      "SCAN LOG PATH /home/djdaniel/DEEPlasma/scanlogs/data_gen_tutorial4\n",
      "\n",
      "LOADING FROM SCANLOG DIR: /home/djdaniel/DEEPlasma/scanlogs/data_gen_tutorial4\n",
      "LOG PATHS ['geneerr_batch-0_scanfiles-0.log' 'scan_batch-0_scanfiles-0.log']\n",
      "\n",
      "LOADING SCANLOG AND TIME INTO PANDAS DATAFRAME /home/djdaniel/DEEPlasma/scanlogs/data_gen_tutorial4/scan_batch-0_scanfiles-0.log : /home/djdaniel/DEEPlasma/scanlogs/data_gen_tutorial4/geneerr_batch-0_scanfiles-0.log\n",
      "\n",
      "5 SAMPLES RAN OUT OF 5 BEFORE MAX WALLTIME:\n",
      "NUMBER OF SAMPLES AFTER REMOVING NaN's: 5\n",
      "NaN PERCENTAGE =  0.0\n",
      "SETTING VARIABLES\n",
      "\n",
      "RANDOMLY SPLITTING DATA INTO TEST AND TRAINING SETS: 50% test, 50 training.\n",
      "\n",
      "RANDOMLY SPLITTING DATA INTO TEST AND TRAINING SETS: 50% test, 50 training.\n"
     ]
    },
    {
     "data": {
      "text/plain": [
       "(  run_time      omt2      omt1      omn1 growthrate frequency\n",
       " 0   28.576  3.381341  4.499231  1.386877     8.5470  -25.4860\n",
       " 1   31.241  3.116692  4.539037  2.544643     5.6990   -9.4170\n",
       " 2  107.051  2.196530  6.083308  2.124313     1.2290   -7.2660\n",
       " 3   44.102  2.882231  5.836209  0.328710     3.6090  -36.6460\n",
       " 4   24.030  3.319788  5.275577  1.054928     7.7850  -29.4530\n",
       " 0   28.576  3.381341  4.499231  1.386877     8.5470  -25.4860\n",
       " 1   31.241  3.116692  4.539037  2.544643     5.6990   -9.4170\n",
       " 2  107.051  2.196530  6.083308  2.124313     1.2290   -7.2660\n",
       " 3   44.102  2.882231  5.836209  0.328710     3.6090  -36.6460\n",
       " 4   24.030  3.319788  5.275577  1.054928     7.7850  -29.4530,\n",
       " array([[2.882231 , 5.836209 , 0.3287098],\n",
       "        [3.381341 , 4.499231 , 1.386877 ],\n",
       "        [3.319788 , 5.275577 , 1.054928 ],\n",
       "        [3.116692 , 4.539037 , 2.544643 ],\n",
       "        [2.19653  , 6.083308 , 2.124313 ]]))"
      ]
     },
     "execution_count": 29,
     "metadata": {},
     "output_type": "execute_result"
    }
   ],
   "source": [
    "data_set_1 = ScanData('data_gen_tutorial4', parser=parser, host=None, remote_path=None,  test_percentage=50)\n",
    "data_set_2 = ScanData('data_gen_tutorial4', parser=parser, host=None, remote_path=None,  test_percentage=50)\n",
    "\n",
    "data_set_3 = data_set_1.concat([data_set_2])\n",
    "\n",
    "data_set_3.df"
   ]
  },
  {
   "cell_type": "code",
   "execution_count": null,
   "metadata": {},
   "outputs": [],
   "source": []
  }
 ],
 "metadata": {
  "kernelspec": {
   "display_name": "gene_ml",
   "language": "python",
   "name": "python3"
  },
  "language_info": {
   "codemirror_mode": {
    "name": "ipython",
    "version": 3
   },
   "file_extension": ".py",
   "mimetype": "text/x-python",
   "name": "python",
   "nbconvert_exporter": "python",
   "pygments_lexer": "ipython3",
   "version": "3.12.3"
  }
 },
 "nbformat": 4,
 "nbformat_minor": 2
}
